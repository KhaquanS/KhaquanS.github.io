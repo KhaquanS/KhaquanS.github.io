{
 "cells": [
  {
   "cell_type": "markdown",
   "metadata": {},
   "source": [
    "---\n",
    "title: \"Implementing Sparse Autoencoders from Scratch\"\n",
    "date: \"2024-09-08\"\n",
    "description: \"We will be coding a basic Sparse Autoencoder (SAE) in pytorch and training it on the MNIST dataset.\"\n",
    "bibliography: references.bib\n",
    "---"
   ]
  },
  {
   "cell_type": "markdown",
   "metadata": {},
   "source": [
    "## Need for Unsupervised Techniques\n",
    "As you might have heard, the power of deep-learning often times is not merely in the results that the deep models are capable of generating but largely in the representations that they learn. \n",
    "\n",
    "Before the deep learning revolution (that most people believe occurred with @krizhevsky2012imagenet), experts would hand engineer features for domain specific tasks. These features could be various edge detection filters for vision tasks (Harris Corner Detector filter detects corners by gauging the change in pixel intensities) among others. However, as the complexity of the downstream tasks that we wanted to accomplish increased, this particular method for learning features did not scale so well. \n",
    "\n",
    "Then, the advent of unsupervised techniques for learning these features rather than hand crafting came to the fore. This shift in how we learn the features for some input distribution is one of the major breakthroughs in modern deep-learning. One particular class of such techniques is the autoencoder architecture. "
   ]
  },
  {
   "cell_type": "markdown",
   "metadata": {},
   "source": [
    "## The Autoencoder Architecture \n",
    "\n",
    "<div style=\"text-align: center;\">\n",
    "  <img src=\"encoder.png\" alt=\"Autoencoder Architecture\" style=\"width:80%;height:80%\">\n",
    "</div>\n",
    "\n",
    "The autoencoder architecture does not require any carefully labelled data to learn representations for the input. In fact, all you really need is the input data itself. \n",
    "\n",
    "More conceretely, given an input $\\mathbf{x} \\in \\mathbb{R}^n$, the **encoder** part of the autoencoder maps the input $\\mathbf{x}$ to a latent representation $\\mathbf{h} \\in \\mathbb{R}^m$. Consequently, the **decoder** part of the autoencoder then uses this latent represenation $\\mathbf{h}$ to reconstruct the input $\\mathbf{x}$. \n",
    "\n",
    "We can then tune the weights of both the whole autoencoder via **Gradient Descent** by seeing how far off the reconstructed version of the input is from the actual input. For gauging how far off the reconstruction is from the input, we can employ common loss functions such as the **mean squared error**. The better our reconstruction, the more potent our latent representation $\\mathbf{h}$ (or features) become.\n",
    "\n",
    "If you notice, the input $\\mathbf{x}$ was part of $\\mathbb{R}^n$ but the latent representation $\\mathbf{h}$ is part of $\\mathbb{R}^m$. We can then have two distinct cases:\n",
    "\n",
    "1. **Over-complete case**: This is when $\\mathbf{m} \\ge \\mathbf{n}$. This case is prone to a major issue that we peek into in the subsequent section.\n",
    "\n",
    "2. **Under-complete case**: This is when $\\mathbf{m} \\lt \\mathbf{n}$."
   ]
  },
  {
   "cell_type": "markdown",
   "metadata": {},
   "source": [
    "## Need for Regularisation in Autoencoders\n",
    "As foreshadowed in the previous section, the over-complete autoencoders have greater capacity (more neurons) in the latent representation layer $\\mathbf{h}$ than the number of features in the input $\\mathbf{x}$. This can lead to one major issue:\n",
    "\n",
    "The nature of the objective in the autoencoder setting (low error reconstruction of the input data) means that the autoencoder with a large latent space capacity can naively learn to 'copy' the input features into the latent space instead of learning new, useful features and still display an incredibly low loss. This is a severe case of overfitting where our network memorises the input data and will suffer to generalise outside of the training domain. \n",
    "\n",
    "Although this case ususally arises in the over-complete case, it is also possible in the under-complete case given the distribution of the input data is rather simple. \n",
    "\n",
    "But the question then is: **How do we avoid this catastrophic over-fitting?**. A simple answer would be **Regularisation**. \n",
    "\n",
    "More specifically, we will be looking into the sparsity contraint which is a form of regularisation that gives rise to the Sparse Autoencoder (SAE)."
   ]
  },
  {
   "cell_type": "markdown",
   "metadata": {},
   "source": [
    "# The Sparse Autoencoder (SAE)\n",
    "\n",
    "<div style=\"text-align: center;\">\n",
    "  <img src=\"sae.png\" alt=\"Autoencoder Architecture\" style=\"width:80%;height:80%\">\n",
    "</div>\n",
    "\n",
    "The main idea behind the SAE is that instead of allowing all the $\\mathbf{m}$ neurons in the latent space $\\mathbf{h}$ fire completely, we would like these neurons on average to be activated only upto a level $\\rho$ for a given batch of inputs.\n",
    "\n",
    "In the subsequent sections, we will be doing the following:\n",
    "\n",
    "1. **Build an SAE step-by-step from scratch in Pytorch.**\n",
    "\n",
    "2. **Train our SAE on the MNIST dataset.**\n",
    "\n",
    "3. **See how well our SAE is able to reconstruct the MNIST dataset (i.e., numbers from 0-9).**"
   ]
  },
  {
   "cell_type": "markdown",
   "metadata": {},
   "source": [
    "### Importing the Data "
   ]
  },
  {
   "cell_type": "code",
   "execution_count": 1,
   "metadata": {},
   "outputs": [],
   "source": [
    "import os\n",
    "import argparse\n",
    "import matplotlib.pyplot as plt\n",
    "from tqdm import tqdm\n",
    "\n",
    "import torch\n",
    "import torch.nn as nn\n",
    "import torch.nn.functional as F\n",
    "from torchvision import datasets, transforms\n",
    "from torch.utils.data import DataLoader"
   ]
  },
  {
   "cell_type": "code",
   "execution_count": 66,
   "metadata": {},
   "outputs": [],
   "source": [
    "def set_seed(seed=42):\n",
    "    torch.manual_seed(seed)\n",
    "    torch.cuda.manual_seed_all(seed)\n",
    "    torch.backends.cudnn.deterministic = True\n",
    "    torch.backends.cudnn.benchmark = False"
   ]
  },
  {
   "cell_type": "code",
   "execution_count": 2,
   "metadata": {},
   "outputs": [
    {
     "name": "stdout",
     "output_type": "stream",
     "text": [
      "Downloading http://yann.lecun.com/exdb/mnist/train-images-idx3-ubyte.gz\n",
      "Failed to download (trying next):\n",
      "HTTP Error 403: Forbidden\n",
      "\n",
      "Downloading https://ossci-datasets.s3.amazonaws.com/mnist/train-images-idx3-ubyte.gz\n",
      "Downloading https://ossci-datasets.s3.amazonaws.com/mnist/train-images-idx3-ubyte.gz to ./data/MNIST/raw/train-images-idx3-ubyte.gz\n"
     ]
    },
    {
     "name": "stderr",
     "output_type": "stream",
     "text": [
      "100%|██████████| 9912422/9912422 [06:20<00:00, 26040.58it/s]\n"
     ]
    },
    {
     "name": "stdout",
     "output_type": "stream",
     "text": [
      "Extracting ./data/MNIST/raw/train-images-idx3-ubyte.gz to ./data/MNIST/raw\n",
      "\n",
      "Downloading http://yann.lecun.com/exdb/mnist/train-labels-idx1-ubyte.gz\n",
      "Failed to download (trying next):\n",
      "HTTP Error 403: Forbidden\n",
      "\n",
      "Downloading https://ossci-datasets.s3.amazonaws.com/mnist/train-labels-idx1-ubyte.gz\n",
      "Downloading https://ossci-datasets.s3.amazonaws.com/mnist/train-labels-idx1-ubyte.gz to ./data/MNIST/raw/train-labels-idx1-ubyte.gz\n"
     ]
    },
    {
     "name": "stderr",
     "output_type": "stream",
     "text": [
      "100%|██████████| 28881/28881 [00:00<00:00, 31908.37it/s]\n"
     ]
    },
    {
     "name": "stdout",
     "output_type": "stream",
     "text": [
      "Extracting ./data/MNIST/raw/train-labels-idx1-ubyte.gz to ./data/MNIST/raw\n",
      "\n",
      "Downloading http://yann.lecun.com/exdb/mnist/t10k-images-idx3-ubyte.gz\n",
      "Failed to download (trying next):\n",
      "HTTP Error 403: Forbidden\n",
      "\n",
      "Downloading https://ossci-datasets.s3.amazonaws.com/mnist/t10k-images-idx3-ubyte.gz\n",
      "Downloading https://ossci-datasets.s3.amazonaws.com/mnist/t10k-images-idx3-ubyte.gz to ./data/MNIST/raw/t10k-images-idx3-ubyte.gz\n"
     ]
    },
    {
     "name": "stderr",
     "output_type": "stream",
     "text": [
      "100%|██████████| 1648877/1648877 [01:04<00:00, 25719.19it/s]\n"
     ]
    },
    {
     "name": "stdout",
     "output_type": "stream",
     "text": [
      "Extracting ./data/MNIST/raw/t10k-images-idx3-ubyte.gz to ./data/MNIST/raw\n",
      "\n",
      "Downloading http://yann.lecun.com/exdb/mnist/t10k-labels-idx1-ubyte.gz\n",
      "Failed to download (trying next):\n",
      "HTTP Error 403: Forbidden\n",
      "\n",
      "Downloading https://ossci-datasets.s3.amazonaws.com/mnist/t10k-labels-idx1-ubyte.gz\n",
      "Downloading https://ossci-datasets.s3.amazonaws.com/mnist/t10k-labels-idx1-ubyte.gz to ./data/MNIST/raw/t10k-labels-idx1-ubyte.gz\n"
     ]
    },
    {
     "name": "stderr",
     "output_type": "stream",
     "text": [
      "100%|██████████| 4542/4542 [00:00<00:00, 15999.10it/s]"
     ]
    },
    {
     "name": "stdout",
     "output_type": "stream",
     "text": [
      "Extracting ./data/MNIST/raw/t10k-labels-idx1-ubyte.gz to ./data/MNIST/raw\n",
      "\n"
     ]
    },
    {
     "name": "stderr",
     "output_type": "stream",
     "text": [
      "\n"
     ]
    }
   ],
   "source": [
    "BATCH_SIZE = 64\n",
    "\n",
    "transform = transforms.Compose([\n",
    "    transforms.ToTensor(),\n",
    "    transforms.Normalize((0.1307,), (0.3081,))\n",
    "])\n",
    "\n",
    "train_dataset = datasets.MNIST(\n",
    "    root='./data',\n",
    "    train=True,\n",
    "    transform=transform,\n",
    "    download= True\n",
    ")\n",
    "\n",
    "train_dataloader = DataLoader(\n",
    "    dataset=train_dataset,\n",
    "    batch_size= BATCH_SIZE,\n",
    "    shuffle=True\n",
    ")\n",
    "\n",
    "val_dataset = datasets.MNIST(\n",
    "    root='./data',\n",
    "    train=False,  # Use the test set as validation set\n",
    "    transform=transform,\n",
    "    download=True\n",
    ")\n",
    "\n",
    "val_dataloader = DataLoader(\n",
    "    dataset=val_dataset,\n",
    "    batch_size=BATCH_SIZE,\n",
    "    shuffle=False\n",
    ")"
   ]
  },
  {
   "cell_type": "markdown",
   "metadata": {},
   "source": [
    "### Building the Encoder\n",
    "Once we recieve the input data of shape $(batch\\_size, 1, 28, 28)$, we will first have to flatten it into a vector of shape $(batch\\_size, 1* 28 *28) = (batch\\_size, 784)$.\n",
    "\n",
    "Then, this flattened vector will pass through the encoder network. The encoder network in our case is just a simple feed-forward network with ReLU activations sandwiched between linear layers. The final output vector from the encoder network will be our latent representation $\\mathbf{h}$ for the input. \n",
    "\n",
    "\n"
   ]
  },
  {
   "cell_type": "markdown",
   "metadata": {},
   "source": [
    "A simple, single layered under-complete encoder would look like this:"
   ]
  },
  {
   "cell_type": "code",
   "execution_count": 28,
   "metadata": {},
   "outputs": [
    {
     "name": "stdout",
     "output_type": "stream",
     "text": [
      "images shape: torch.Size([64, 1, 28, 28])\n",
      "Flattened images vector shape: torch.Size([64, 784])\n"
     ]
    }
   ],
   "source": [
    "images, _ = next(iter(train_dataloader))\n",
    "\n",
    "print(f'images shape: {images.shape}')\n",
    "flat_images = images.view(images.shape[0], -1) # Convert the images tensor into a vector\n",
    "\n",
    "print(f'Flattened images vector shape: {flat_images.shape}')"
   ]
  },
  {
   "cell_type": "code",
   "execution_count": 31,
   "metadata": {},
   "outputs": [
    {
     "name": "stdout",
     "output_type": "stream",
     "text": [
      "Shape of encoded images: torch.Size([64, 20])\n"
     ]
    }
   ],
   "source": [
    "# A simple single layered encoder. The size of h = 20 (i.e., 20 neurons in the latent space so its an undercomplete autoencoder)\n",
    "encoder = nn.Sequential(\n",
    "    nn.Linear(28*28, 20),\n",
    "    nn.ReLU()\n",
    ")\n",
    "encoded = encoder(flat_images)\n",
    "print(f'Shape of encoded images: {encoded.shape}')"
   ]
  },
  {
   "cell_type": "markdown",
   "metadata": {},
   "source": [
    "On the other hand, a more complex under-complete encoder could have mutliple linear layers with non-linearities in between:"
   ]
  },
  {
   "cell_type": "code",
   "execution_count": 40,
   "metadata": {},
   "outputs": [
    {
     "name": "stdout",
     "output_type": "stream",
     "text": [
      "Shape of encoded images: torch.Size([64, 20])\n"
     ]
    }
   ],
   "source": [
    "complex_encoder = nn.Sequential(\n",
    "    nn.Linear(28*28, 256),\n",
    "    nn.ReLU(),\n",
    "    nn.Linear(256, 128),\n",
    "    nn.ReLU(),\n",
    "    nn.Linear(128, 20),\n",
    "    nn.ReLU()\n",
    ")\n",
    "\n",
    "encoded = complex_encoder(flat_images)\n",
    "print(f'Shape of encoded images: {encoded.shape}')"
   ]
  },
  {
   "cell_type": "markdown",
   "metadata": {},
   "source": [
    "The latent representations for the first 5 of these 64 input images look something like this: "
   ]
  },
  {
   "cell_type": "code",
   "execution_count": 46,
   "metadata": {},
   "outputs": [
    {
     "data": {
      "image/png": "[encoded data removed]",
      "text/plain": [
       "<Figure size 1200x600 with 5 Axes>"
      ]
     },
     "metadata": {},
     "output_type": "display_data"
    }
   ],
   "source": [
    "# Converting tensor to numpy array \n",
    "encoded_np = encoded.detach().numpy()\n",
    "\n",
    "# Reshaping each vector to 2D image dimensions (e.g., 5x4) for visualization\n",
    "num_images = 5\n",
    "image_height = 5\n",
    "image_width = 4\n",
    "\n",
    "# Plotting the first 5 latent representations\n",
    "plt.figure(figsize=(12, 6))\n",
    "for i in range(num_images):\n",
    "    plt.subplot(1, num_images, i + 1)\n",
    "    image = encoded_np[i].reshape(image_height, image_width)\n",
    "    plt.imshow(image, cmap='gray')\n",
    "    plt.title(f'Image {i + 1}')\n",
    "    plt.axis('off')\n",
    "\n",
    "plt.tight_layout()\n",
    "plt.show()"
   ]
  },
  {
   "cell_type": "markdown",
   "metadata": {},
   "source": [
    "### Understanding the Sparsity Contraint\n",
    "\n",
    "Before we move on to the decoder, we need to get a grip over what exactly the sparsity constraint is.\n",
    "\n",
    "As I mentioned earlier, we pick a hyper-parameter called $\\rho$ which decides that for a given batch of input images, how activated on average should each of the $\\mathbf{m}$ neurons in the latent representation $\\mathbf{h}$ be. \n",
    "\n",
    "Putting it mathematically, we have the following set of simple equations:\n",
    "\n",
    "$$\\hat{\\rho}_i = \\frac{1}{N} \\sum_{i=1}^N h_i(x)$$\n",
    "\n",
    "Here $\\hat{\\rho}_i$ represents the average activation of the $i^{th}$ latent space neuron over a batch of input data with $N$ elements.\n",
    "\n",
    "Now, the sparsity contraint says that we need to push the value of $\\hat{\\rho}_i$ close to $\\rho$ for all $i \\in \\{1,2, \\dots, m\\}$ in the latent space. \n",
    "\n",
    "A simple way to measure how far off a particular distribution is from some reference distribution is to use the KL-divergence. In our case, we need to measure how far off $\\hat{\\rho}$ is from $\\rho$:\n",
    "\n",
    "$$\\sum_{i=1}^m [\\rho \\log \\frac{\\rho}{\\hat{\\rho}_i} + (1-\\rho) \\log \\frac{1-\\rho}{1-\\hat{\\rho}_i}] $$\n",
    "\n",
    "This can be represented as:\n",
    "\n",
    "$$\\sum_{i=1}^m \\text{KL}(\\rho \\| \\hat{\\rho}_i)$$\n"
   ]
  },
  {
   "cell_type": "markdown",
   "metadata": {},
   "source": [
    "Now let's code up the sparsity penalty. I would like you to quickly take note of a these three implementation details:\n",
    "\n",
    "1. **Shape of $\\rho$ and $\\hat{\\rho}$**: Since we average across the batch, the batch dimension will simply collapse so the $\\hat{\\rho}$ vector of an encoded vector of shape $(batch\\_size, 20)$ would be of shape $(20,)$. \n",
    "\n",
    "2. **Sparsity target:** This is nothing but the $\\rho$ value. \n",
    "\n",
    "3. **Sparsity lambda:** This is a multiplier that we use to scale up/down the sparsity penalty. Larger **sparsity lambda** values mean a larger penalty in case $\\hat{\\rho}$ deviates from $\\rho$."
   ]
  },
  {
   "cell_type": "code",
   "execution_count": 44,
   "metadata": {},
   "outputs": [
    {
     "name": "stdout",
     "output_type": "stream",
     "text": [
      "Rho shape: torch.Size([20]) || Rho hat shape: torch.Size([20])\n",
      "Sparsity Penalty: 0.0159\n"
     ]
    }
   ],
   "source": [
    "sparsity_target = 1e-3\n",
    "sparsity_lambda = 2e-2\n",
    "\n",
    "rho_hat = encoded.mean(dim=0) # Average activation of each neuron across the input batch \n",
    "rho = torch.ones_like(rho_hat) * sparsity_target # The rho vector we can to converge rho_hat towards\n",
    "\n",
    "# Adding a small epsilon to rho_hat and rho to prevent log(0) errors\n",
    "rho_hat = rho_hat + 1e-8\n",
    "rho = rho + 1e-8\n",
    "\n",
    "print(f'Rho shape: {rho.shape} || Rho hat shape: {rho_hat.shape}')\n",
    "\n",
    "kl_div = - (rho * torch.log(rho_hat)) - ((1-rho) * torch.log(1-rho_hat))\n",
    "penalty = sparsity_lambda * kl_div.sum()\n",
    "\n",
    "print(f'Sparsity Penalty: {penalty:.4f}')"
   ]
  },
  {
   "cell_type": "markdown",
   "metadata": {},
   "source": [
    "### Building the Decoder \n",
    "Now that we have built the **Encoder** and also hopefully understood the **sparsity constraint**, we can move on to the final piece of our architecture, the **Decoder**.\n",
    "\n",
    "As discussed earlier, the **Decoder** takes the latent representation $\\mathbf{h}$ as input and reconstructs the input data $\\mathbf{x}$.\n",
    "\n",
    "For the sake of convenience, I will define the **Decoder** architecture simply as the inverse of the encoder architecture in case the encoder architecture has multiple layers. This means if the encoder had linear layers of shapes $[784, 256, 128, 20]$ then the decoder would have layers with the shape $[20, 128, 256, 784]$.  "
   ]
  },
  {
   "cell_type": "code",
   "execution_count": 45,
   "metadata": {},
   "outputs": [
    {
     "name": "stdout",
     "output_type": "stream",
     "text": [
      "Deocded shape: torch.Size([64, 784])\n"
     ]
    }
   ],
   "source": [
    "complex_decoder = nn.Sequential(\n",
    "    nn.Linear(20, 128),\n",
    "    nn.ReLU(),\n",
    "    nn.Linear(128, 256),\n",
    "    nn.ReLU(),\n",
    "    nn.Linear(256, 784),\n",
    ")\n",
    "\n",
    "decoded = complex_decoder(encoded)\n",
    "print(f'Deocded shape: {decoded.shape}')"
   ]
  },
  {
   "cell_type": "markdown",
   "metadata": {},
   "source": [
    "Now since the encoder and the decoder have completely random weights at this stage, we should expect the reconstructed images from the autoencoder to be completely noisy (should look something like static noise). \n",
    "\n",
    "But, in the final section when we actually train the model, you will see how beautifully the latent space captures the features of the input distribution and hence leads to some promising reconstructions!"
   ]
  },
  {
   "cell_type": "code",
   "execution_count": 60,
   "metadata": {},
   "outputs": [
    {
     "name": "stdout",
     "output_type": "stream",
     "text": [
      "Shape of images: (64, 28, 28)\n"
     ]
    },
    {
     "data": {
      "image/png": "[encoded data removed]",
      "text/plain": [
       "<Figure size 1200x600 with 5 Axes>"
      ]
     },
     "metadata": {},
     "output_type": "display_data"
    }
   ],
   "source": [
    "# Converting tensor to numpy array \n",
    "untrained_images = decoded.view(64, 28, 28).detach().numpy()\n",
    "\n",
    "print(f'Shape of images: {untrained_images.shape}')\n",
    "\n",
    "num_images = 5\n",
    "image_height = 28\n",
    "image_width = 28\n",
    "\n",
    "# Plotting the first 5 latent representations\n",
    "plt.figure(figsize=(12, 6))\n",
    "for i in range(num_images):\n",
    "    plt.subplot(1, num_images, i + 1)\n",
    "    image = untrained_images[i].reshape(image_height, image_width)\n",
    "    plt.imshow(image, cmap='gray')\n",
    "    plt.title(f'Image {i + 1}')\n",
    "    plt.axis('off')\n",
    "\n",
    "plt.tight_layout()\n",
    "plt.show()"
   ]
  },
  {
   "cell_type": "markdown",
   "metadata": {},
   "source": [
    "### Reconstruction Error\n",
    "Ok, before we move on to combining the bits and pieces into a full-fledged SAE architecture, we need to understand the reconstruction error. We essentially need to measure the following:\n",
    "\n",
    "**How far off is my reconstructed image from the actual input image?** \n",
    "\n",
    "In our case, we can measure this using the Mean Squared Error (MSE). The final loss of our SAE model will be a sum of MSE and the Sparsity Penalty. "
   ]
  },
  {
   "cell_type": "code",
   "execution_count": 59,
   "metadata": {},
   "outputs": [
    {
     "name": "stdout",
     "output_type": "stream",
     "text": [
      "MSE Loss: 0.9892\n"
     ]
    }
   ],
   "source": [
    "MSE_loss = F.mse_loss(decoded, flat_images)\n",
    "print(f'MSE Loss: {MSE_loss.item():.4f}')"
   ]
  },
  {
   "cell_type": "markdown",
   "metadata": {},
   "source": [
    "### Putting Everything Together\n",
    "In this section, we will simply stitch together the bits and pieces from all the sections and finally train our SAE on MNIST. Let's see how far our training takes us from our initial noisy reconstructions ... "
   ]
  },
  {
   "cell_type": "code",
   "execution_count": 62,
   "metadata": {},
   "outputs": [],
   "source": [
    "class SAE(nn.Module):\n",
    "    def __init__(self, in_dims, h_dims, sparsity_target, sparsity_lambda):\n",
    "        super().__init__()\n",
    "        self.in_dims = in_dims\n",
    "        self.h_dims = h_dims\n",
    "        self.sparsity_target = sparsity_target\n",
    "        self.sparsity_lambda = sparsity_lambda\n",
    "        \n",
    "        \"\"\"\n",
    "        Encoder maps the input to a high/low dimensional latent space depending on the kind of AE being used.\n",
    "        In the over-complete case, latent space is higher dimensional than input space while in the under-complete\n",
    "        case, the opposite is true. The sparsity in the SAE generally allows the AE to learn a useful latent representation \n",
    "        even in the over-complete case by ensuring that the AE does not learn to naively 'copy' the input into the \n",
    "        higher dimensional latent space. We will be using the ReLU non-linearity between the encoder layers. \n",
    "        \"\"\"\n",
    "        \n",
    "        self.enc_layers = [nn.Linear(self.in_dims, self.h_dims[0]), nn.ReLU()]\n",
    "        \n",
    "        for i in range(1, len(self.h_dims)):\n",
    "            self.enc_layers.append(nn.Linear(self.h_dims[i - 1], self.h_dims[i]))\n",
    "            self.enc_layers.append(nn.ReLU())\n",
    "\n",
    "        \"\"\"\n",
    "        The decoder on the other hand uses the latent space representation of the input and tries to reconstruct\n",
    "        the input. In this case, I will assume the decoder follows a reverse structure of layers compared to the \n",
    "        decoder. \n",
    "        \"\"\"\n",
    "        \n",
    "        if len(self.h_dims) > 1:\n",
    "            self.dec_layers = [nn.Linear(self.h_dims[-1], self.h_dims[-2]), nn.ReLU()]\n",
    "\n",
    "            # Reverse the order of hidden layers for decoding\n",
    "            for i in range(len(self.h_dims) - 2, 0, -1):\n",
    "                self.dec_layers.append(nn.Linear(self.h_dims[i], self.h_dims[i - 1]))\n",
    "                self.dec_layers.append(nn.ReLU())\n",
    "\n",
    "            # Final layer to reconstruct the input dimensions\n",
    "            self.dec_layers.append(nn.Linear(self.h_dims[0], self.in_dims))\n",
    "            \n",
    "        else:\n",
    "            self.dec_layers = [nn.Linear(self.h_dims[-1], self.in_dims)]          \n",
    "\n",
    "        self.encoder = nn.Sequential(*self.enc_layers)\n",
    "        self.decoder = nn.Sequential(*self.dec_layers)\n",
    "\n",
    "    def forward(self, x):\n",
    "        # flatten x into a vector \n",
    "        x = x.view(x.shape[0], -1) # (batch_size, in_dim)\n",
    "        \n",
    "        encoded = self.encoder(x) # Push the input into the latent space (i.e., encode it)        \n",
    "        decoded = self.decoder(encoded) # Reconstruct the input back from the latent space (i.e., decode it)\n",
    "        \n",
    "        return encoded, decoded\n",
    "    \n",
    "    def penalty(self, encoded):\n",
    "        \"\"\"\n",
    "        This is the sparsity penalty. This adds a contraint on the activation values of the neurons in \n",
    "        the latent space by forcing them to be on average centered around some target sparsity level.\n",
    "        This contraint prevents the latent space from simply being a naive copy of the input especially \n",
    "        in the over-complete case. \n",
    "        Generally, the KL divergence between the target sparsity vector and average latent space activation \n",
    "        vector is used to implement the penalty. \n",
    "        \"\"\"\n",
    "        \n",
    "        data_rho = encoded.mean(dim=0) + 1e-8 # Average activation of each neuron across the input batch \n",
    "        rho = (torch.ones_like(data_rho) * self.sparsity_target) + 1e-8\n",
    "        \n",
    "        kl_div = - (rho * torch.log(data_rho)) - ((1-rho) * torch.log(1-data_rho))\n",
    "        penalty = self.sparsity_lambda * kl_div.sum()\n",
    "        \n",
    "        return penalty\n",
    "    \n",
    "    def loss(self, x, decoded, encoded):\n",
    "        x = x.view(x.shape[0], -1)\n",
    "        mse_loss = F.mse_loss(decoded, x)\n",
    "        sparsity_penalty = self.penalty(encoded)\n",
    "        \n",
    "        return mse_loss + sparsity_penalty\n",
    "    \n",
    "    def sample(self, x):\n",
    "        \n",
    "        torch.no_grad()\n",
    "        x = x.view(x.shape[0], -1)  # Flatten the input to (batch_size, in_dim)\n",
    "        encoded = self.encoder(x)\n",
    "        decoded = self.decoder(encoded)\n",
    "\n",
    "        return decoded"
   ]
  },
  {
   "cell_type": "code",
   "execution_count": 63,
   "metadata": {},
   "outputs": [],
   "source": [
    "def train_model(model, train_dataloader, n_epochs, optimizer, device):\n",
    "    train_losses = []\n",
    "    \n",
    "    model.to(device)\n",
    "    \n",
    "    for epoch in range(n_epochs):\n",
    "        model.train()\n",
    "        total_train_loss = 0\n",
    "        # Training loop\n",
    "        for data, _ in tqdm(train_dataloader, desc=f\"Epoch {epoch+1}/{n_epochs}\"):\n",
    "            data = data.to(device)\n",
    "            optimizer.zero_grad()\n",
    "            encoded, decoded = model(data)\n",
    "            \n",
    "            loss = model.loss(data, decoded, encoded)\n",
    "            loss.backward()\n",
    "            optimizer.step()\n",
    "            \n",
    "            total_train_loss += loss.item()\n",
    "        \n",
    "        # Calculate average training loss\n",
    "        avg_train_loss = total_train_loss / len(train_dataloader)\n",
    "        train_losses.append(avg_train_loss)\n",
    "\n",
    "        print(f'\\nEpoch: {epoch+1}/{n_epochs} -- Train Loss: {avg_train_loss:.4f}')\n",
    "        print('-'*50)\n",
    "\n",
    "    return train_losses\n"
   ]
  },
  {
   "cell_type": "code",
   "execution_count": 72,
   "metadata": {},
   "outputs": [],
   "source": [
    "def plot_images(model, dataloader, device, num_images, save_plot):\n",
    "    image, _ = next(iter(dataloader))[:num_images]\n",
    "    image = image.to(device)\n",
    "    reconstructed = model.sample(image)\n",
    "\n",
    "    reconstructed = reconstructed.cpu().detach().numpy()\n",
    "    image = image.cpu().numpy()\n",
    "\n",
    "    # Plot original and reconstructed images side by side\n",
    "    fig, axes = plt.subplots(2, num_images, figsize=(15 , 6))\n",
    "\n",
    "    for i in range(num_images):\n",
    "        # Plot original images\n",
    "        ax = axes[0, i]\n",
    "        ax.imshow(image[i].reshape(28, 28), cmap='gray')\n",
    "        ax.set_title('Original')\n",
    "        ax.axis('off')\n",
    "\n",
    "        # Plot reconstructed images\n",
    "        ax = axes[1, i]\n",
    "        ax.imshow(reconstructed[i].reshape(28, 28), cmap='gray')\n",
    "        ax.set_title('Reconstructed')\n",
    "        ax.axis('off')\n",
    "\n",
    "    plt.tight_layout()\n",
    "\n",
    "    if save_plot:\n",
    "        # Create 'images' directory if it does not exist\n",
    "        if not os.path.exists('./images'):\n",
    "            os.makedirs('./images')\n",
    "        \n",
    "        # Save the plot to 'images/plot.png'\n",
    "        plt.savefig('images/plot.png')\n",
    "    \n",
    "    plt.show()"
   ]
  },
  {
   "cell_type": "markdown",
   "metadata": {},
   "source": [
    "Hopefully none of the things in the **SAE class** look unfamiliar since we have discussed each component of the class before. Now, let's first initialise a SAE model, then train it and finally visualise the results."
   ]
  },
  {
   "cell_type": "code",
   "execution_count": 68,
   "metadata": {},
   "outputs": [
    {
     "name": "stderr",
     "output_type": "stream",
     "text": [
      "Epoch 1/80: 100%|██████████| 938/938 [00:05<00:00, 181.28it/s]\n"
     ]
    },
    {
     "name": "stdout",
     "output_type": "stream",
     "text": [
      "\n",
      "Epoch: 1/80 -- Train Loss: 0.6318\n",
      "--------------------------------------------------\n"
     ]
    },
    {
     "name": "stderr",
     "output_type": "stream",
     "text": [
      "Epoch 2/80: 100%|██████████| 938/938 [00:04<00:00, 194.38it/s]\n"
     ]
    },
    {
     "name": "stdout",
     "output_type": "stream",
     "text": [
      "\n",
      "Epoch: 2/80 -- Train Loss: 0.4717\n",
      "--------------------------------------------------\n"
     ]
    },
    {
     "name": "stderr",
     "output_type": "stream",
     "text": [
      "Epoch 3/80: 100%|██████████| 938/938 [00:04<00:00, 195.81it/s]\n"
     ]
    },
    {
     "name": "stdout",
     "output_type": "stream",
     "text": [
      "\n",
      "Epoch: 3/80 -- Train Loss: 0.4031\n",
      "--------------------------------------------------\n"
     ]
    },
    {
     "name": "stderr",
     "output_type": "stream",
     "text": [
      "Epoch 4/80: 100%|██████████| 938/938 [00:05<00:00, 174.81it/s]\n"
     ]
    },
    {
     "name": "stdout",
     "output_type": "stream",
     "text": [
      "\n",
      "Epoch: 4/80 -- Train Loss: 0.3630\n",
      "--------------------------------------------------\n"
     ]
    },
    {
     "name": "stderr",
     "output_type": "stream",
     "text": [
      "Epoch 5/80: 100%|██████████| 938/938 [00:04<00:00, 194.68it/s]\n"
     ]
    },
    {
     "name": "stdout",
     "output_type": "stream",
     "text": [
      "\n",
      "Epoch: 5/80 -- Train Loss: 0.3315\n",
      "--------------------------------------------------\n"
     ]
    },
    {
     "name": "stderr",
     "output_type": "stream",
     "text": [
      "Epoch 6/80: 100%|██████████| 938/938 [00:04<00:00, 197.29it/s]\n"
     ]
    },
    {
     "name": "stdout",
     "output_type": "stream",
     "text": [
      "\n",
      "Epoch: 6/80 -- Train Loss: 0.3128\n",
      "--------------------------------------------------\n"
     ]
    },
    {
     "name": "stderr",
     "output_type": "stream",
     "text": [
      "Epoch 7/80: 100%|██████████| 938/938 [00:04<00:00, 195.35it/s]\n"
     ]
    },
    {
     "name": "stdout",
     "output_type": "stream",
     "text": [
      "\n",
      "Epoch: 7/80 -- Train Loss: 0.2996\n",
      "--------------------------------------------------\n"
     ]
    },
    {
     "name": "stderr",
     "output_type": "stream",
     "text": [
      "Epoch 8/80: 100%|██████████| 938/938 [00:04<00:00, 195.11it/s]\n"
     ]
    },
    {
     "name": "stdout",
     "output_type": "stream",
     "text": [
      "\n",
      "Epoch: 8/80 -- Train Loss: 0.2881\n",
      "--------------------------------------------------\n"
     ]
    },
    {
     "name": "stderr",
     "output_type": "stream",
     "text": [
      "Epoch 9/80: 100%|██████████| 938/938 [00:04<00:00, 190.29it/s]\n"
     ]
    },
    {
     "name": "stdout",
     "output_type": "stream",
     "text": [
      "\n",
      "Epoch: 9/80 -- Train Loss: 0.2789\n",
      "--------------------------------------------------\n"
     ]
    },
    {
     "name": "stderr",
     "output_type": "stream",
     "text": [
      "Epoch 10/80: 100%|██████████| 938/938 [00:05<00:00, 178.49it/s]\n"
     ]
    },
    {
     "name": "stdout",
     "output_type": "stream",
     "text": [
      "\n",
      "Epoch: 10/80 -- Train Loss: 0.2718\n",
      "--------------------------------------------------\n"
     ]
    },
    {
     "name": "stderr",
     "output_type": "stream",
     "text": [
      "Epoch 11/80: 100%|██████████| 938/938 [00:05<00:00, 182.95it/s]\n"
     ]
    },
    {
     "name": "stdout",
     "output_type": "stream",
     "text": [
      "\n",
      "Epoch: 11/80 -- Train Loss: 0.2659\n",
      "--------------------------------------------------\n"
     ]
    },
    {
     "name": "stderr",
     "output_type": "stream",
     "text": [
      "Epoch 12/80: 100%|██████████| 938/938 [00:05<00:00, 164.95it/s]\n"
     ]
    },
    {
     "name": "stdout",
     "output_type": "stream",
     "text": [
      "\n",
      "Epoch: 12/80 -- Train Loss: 0.2609\n",
      "--------------------------------------------------\n"
     ]
    },
    {
     "name": "stderr",
     "output_type": "stream",
     "text": [
      "Epoch 13/80: 100%|██████████| 938/938 [00:05<00:00, 178.78it/s]\n"
     ]
    },
    {
     "name": "stdout",
     "output_type": "stream",
     "text": [
      "\n",
      "Epoch: 13/80 -- Train Loss: 0.2565\n",
      "--------------------------------------------------\n"
     ]
    },
    {
     "name": "stderr",
     "output_type": "stream",
     "text": [
      "Epoch 14/80: 100%|██████████| 938/938 [00:05<00:00, 175.69it/s]\n"
     ]
    },
    {
     "name": "stdout",
     "output_type": "stream",
     "text": [
      "\n",
      "Epoch: 14/80 -- Train Loss: 0.2530\n",
      "--------------------------------------------------\n"
     ]
    },
    {
     "name": "stderr",
     "output_type": "stream",
     "text": [
      "Epoch 15/80: 100%|██████████| 938/938 [00:05<00:00, 172.32it/s]\n"
     ]
    },
    {
     "name": "stdout",
     "output_type": "stream",
     "text": [
      "\n",
      "Epoch: 15/80 -- Train Loss: 0.2494\n",
      "--------------------------------------------------\n"
     ]
    },
    {
     "name": "stderr",
     "output_type": "stream",
     "text": [
      "Epoch 16/80: 100%|██████████| 938/938 [00:05<00:00, 175.09it/s]\n"
     ]
    },
    {
     "name": "stdout",
     "output_type": "stream",
     "text": [
      "\n",
      "Epoch: 16/80 -- Train Loss: 0.2464\n",
      "--------------------------------------------------\n"
     ]
    },
    {
     "name": "stderr",
     "output_type": "stream",
     "text": [
      "Epoch 17/80: 100%|██████████| 938/938 [00:05<00:00, 174.18it/s]\n"
     ]
    },
    {
     "name": "stdout",
     "output_type": "stream",
     "text": [
      "\n",
      "Epoch: 17/80 -- Train Loss: 0.2437\n",
      "--------------------------------------------------\n"
     ]
    },
    {
     "name": "stderr",
     "output_type": "stream",
     "text": [
      "Epoch 18/80: 100%|██████████| 938/938 [00:05<00:00, 168.45it/s]\n"
     ]
    },
    {
     "name": "stdout",
     "output_type": "stream",
     "text": [
      "\n",
      "Epoch: 18/80 -- Train Loss: 0.2412\n",
      "--------------------------------------------------\n"
     ]
    },
    {
     "name": "stderr",
     "output_type": "stream",
     "text": [
      "Epoch 19/80: 100%|██████████| 938/938 [00:05<00:00, 170.91it/s]\n"
     ]
    },
    {
     "name": "stdout",
     "output_type": "stream",
     "text": [
      "\n",
      "Epoch: 19/80 -- Train Loss: 0.2389\n",
      "--------------------------------------------------\n"
     ]
    },
    {
     "name": "stderr",
     "output_type": "stream",
     "text": [
      "Epoch 20/80: 100%|██████████| 938/938 [00:05<00:00, 172.50it/s]\n"
     ]
    },
    {
     "name": "stdout",
     "output_type": "stream",
     "text": [
      "\n",
      "Epoch: 20/80 -- Train Loss: 0.2371\n",
      "--------------------------------------------------\n"
     ]
    },
    {
     "name": "stderr",
     "output_type": "stream",
     "text": [
      "Epoch 21/80: 100%|██████████| 938/938 [00:05<00:00, 160.86it/s]\n"
     ]
    },
    {
     "name": "stdout",
     "output_type": "stream",
     "text": [
      "\n",
      "Epoch: 21/80 -- Train Loss: 0.2346\n",
      "--------------------------------------------------\n"
     ]
    },
    {
     "name": "stderr",
     "output_type": "stream",
     "text": [
      "Epoch 22/80: 100%|██████████| 938/938 [00:05<00:00, 164.76it/s]\n"
     ]
    },
    {
     "name": "stdout",
     "output_type": "stream",
     "text": [
      "\n",
      "Epoch: 22/80 -- Train Loss: 0.2319\n",
      "--------------------------------------------------\n"
     ]
    },
    {
     "name": "stderr",
     "output_type": "stream",
     "text": [
      "Epoch 23/80: 100%|██████████| 938/938 [00:05<00:00, 166.63it/s]\n"
     ]
    },
    {
     "name": "stdout",
     "output_type": "stream",
     "text": [
      "\n",
      "Epoch: 23/80 -- Train Loss: 0.2292\n",
      "--------------------------------------------------\n"
     ]
    },
    {
     "name": "stderr",
     "output_type": "stream",
     "text": [
      "Epoch 24/80: 100%|██████████| 938/938 [00:05<00:00, 168.12it/s]\n"
     ]
    },
    {
     "name": "stdout",
     "output_type": "stream",
     "text": [
      "\n",
      "Epoch: 24/80 -- Train Loss: 0.2269\n",
      "--------------------------------------------------\n"
     ]
    },
    {
     "name": "stderr",
     "output_type": "stream",
     "text": [
      "Epoch 25/80: 100%|██████████| 938/938 [00:05<00:00, 164.56it/s]\n"
     ]
    },
    {
     "name": "stdout",
     "output_type": "stream",
     "text": [
      "\n",
      "Epoch: 25/80 -- Train Loss: 0.2248\n",
      "--------------------------------------------------\n"
     ]
    },
    {
     "name": "stderr",
     "output_type": "stream",
     "text": [
      "Epoch 26/80: 100%|██████████| 938/938 [00:05<00:00, 165.68it/s]\n"
     ]
    },
    {
     "name": "stdout",
     "output_type": "stream",
     "text": [
      "\n",
      "Epoch: 26/80 -- Train Loss: 0.2226\n",
      "--------------------------------------------------\n"
     ]
    },
    {
     "name": "stderr",
     "output_type": "stream",
     "text": [
      "Epoch 27/80: 100%|██████████| 938/938 [00:05<00:00, 164.63it/s]\n"
     ]
    },
    {
     "name": "stdout",
     "output_type": "stream",
     "text": [
      "\n",
      "Epoch: 27/80 -- Train Loss: 0.2203\n",
      "--------------------------------------------------\n"
     ]
    },
    {
     "name": "stderr",
     "output_type": "stream",
     "text": [
      "Epoch 28/80: 100%|██████████| 938/938 [00:05<00:00, 166.43it/s]\n"
     ]
    },
    {
     "name": "stdout",
     "output_type": "stream",
     "text": [
      "\n",
      "Epoch: 28/80 -- Train Loss: 0.2180\n",
      "--------------------------------------------------\n"
     ]
    },
    {
     "name": "stderr",
     "output_type": "stream",
     "text": [
      "Epoch 29/80: 100%|██████████| 938/938 [00:05<00:00, 166.70it/s]\n"
     ]
    },
    {
     "name": "stdout",
     "output_type": "stream",
     "text": [
      "\n",
      "Epoch: 29/80 -- Train Loss: 0.2162\n",
      "--------------------------------------------------\n"
     ]
    },
    {
     "name": "stderr",
     "output_type": "stream",
     "text": [
      "Epoch 30/80: 100%|██████████| 938/938 [00:05<00:00, 165.14it/s]\n"
     ]
    },
    {
     "name": "stdout",
     "output_type": "stream",
     "text": [
      "\n",
      "Epoch: 30/80 -- Train Loss: 0.2145\n",
      "--------------------------------------------------\n"
     ]
    },
    {
     "name": "stderr",
     "output_type": "stream",
     "text": [
      "Epoch 31/80: 100%|██████████| 938/938 [00:05<00:00, 164.07it/s]\n"
     ]
    },
    {
     "name": "stdout",
     "output_type": "stream",
     "text": [
      "\n",
      "Epoch: 31/80 -- Train Loss: 0.2130\n",
      "--------------------------------------------------\n"
     ]
    },
    {
     "name": "stderr",
     "output_type": "stream",
     "text": [
      "Epoch 32/80: 100%|██████████| 938/938 [00:05<00:00, 168.54it/s]\n"
     ]
    },
    {
     "name": "stdout",
     "output_type": "stream",
     "text": [
      "\n",
      "Epoch: 32/80 -- Train Loss: 0.2116\n",
      "--------------------------------------------------\n"
     ]
    },
    {
     "name": "stderr",
     "output_type": "stream",
     "text": [
      "Epoch 33/80: 100%|██████████| 938/938 [00:05<00:00, 160.63it/s]\n"
     ]
    },
    {
     "name": "stdout",
     "output_type": "stream",
     "text": [
      "\n",
      "Epoch: 33/80 -- Train Loss: 0.2103\n",
      "--------------------------------------------------\n"
     ]
    },
    {
     "name": "stderr",
     "output_type": "stream",
     "text": [
      "Epoch 34/80: 100%|██████████| 938/938 [00:05<00:00, 163.08it/s]\n"
     ]
    },
    {
     "name": "stdout",
     "output_type": "stream",
     "text": [
      "\n",
      "Epoch: 34/80 -- Train Loss: 0.2090\n",
      "--------------------------------------------------\n"
     ]
    },
    {
     "name": "stderr",
     "output_type": "stream",
     "text": [
      "Epoch 35/80: 100%|██████████| 938/938 [00:05<00:00, 161.42it/s]\n"
     ]
    },
    {
     "name": "stdout",
     "output_type": "stream",
     "text": [
      "\n",
      "Epoch: 35/80 -- Train Loss: 0.2078\n",
      "--------------------------------------------------\n"
     ]
    },
    {
     "name": "stderr",
     "output_type": "stream",
     "text": [
      "Epoch 36/80: 100%|██████████| 938/938 [00:05<00:00, 163.56it/s]\n"
     ]
    },
    {
     "name": "stdout",
     "output_type": "stream",
     "text": [
      "\n",
      "Epoch: 36/80 -- Train Loss: 0.2067\n",
      "--------------------------------------------------\n"
     ]
    },
    {
     "name": "stderr",
     "output_type": "stream",
     "text": [
      "Epoch 37/80: 100%|██████████| 938/938 [00:05<00:00, 167.25it/s]\n"
     ]
    },
    {
     "name": "stdout",
     "output_type": "stream",
     "text": [
      "\n",
      "Epoch: 37/80 -- Train Loss: 0.2056\n",
      "--------------------------------------------------\n"
     ]
    },
    {
     "name": "stderr",
     "output_type": "stream",
     "text": [
      "Epoch 38/80: 100%|██████████| 938/938 [00:05<00:00, 168.78it/s]\n"
     ]
    },
    {
     "name": "stdout",
     "output_type": "stream",
     "text": [
      "\n",
      "Epoch: 38/80 -- Train Loss: 0.2047\n",
      "--------------------------------------------------\n"
     ]
    },
    {
     "name": "stderr",
     "output_type": "stream",
     "text": [
      "Epoch 39/80: 100%|██████████| 938/938 [00:05<00:00, 164.40it/s]\n"
     ]
    },
    {
     "name": "stdout",
     "output_type": "stream",
     "text": [
      "\n",
      "Epoch: 39/80 -- Train Loss: 0.2034\n",
      "--------------------------------------------------\n"
     ]
    },
    {
     "name": "stderr",
     "output_type": "stream",
     "text": [
      "Epoch 40/80: 100%|██████████| 938/938 [00:05<00:00, 161.36it/s]\n"
     ]
    },
    {
     "name": "stdout",
     "output_type": "stream",
     "text": [
      "\n",
      "Epoch: 40/80 -- Train Loss: 0.2024\n",
      "--------------------------------------------------\n"
     ]
    },
    {
     "name": "stderr",
     "output_type": "stream",
     "text": [
      "Epoch 41/80: 100%|██████████| 938/938 [00:05<00:00, 164.95it/s]\n"
     ]
    },
    {
     "name": "stdout",
     "output_type": "stream",
     "text": [
      "\n",
      "Epoch: 41/80 -- Train Loss: 0.2015\n",
      "--------------------------------------------------\n"
     ]
    },
    {
     "name": "stderr",
     "output_type": "stream",
     "text": [
      "Epoch 42/80: 100%|██████████| 938/938 [00:05<00:00, 163.41it/s]\n"
     ]
    },
    {
     "name": "stdout",
     "output_type": "stream",
     "text": [
      "\n",
      "Epoch: 42/80 -- Train Loss: 0.2006\n",
      "--------------------------------------------------\n"
     ]
    },
    {
     "name": "stderr",
     "output_type": "stream",
     "text": [
      "Epoch 43/80: 100%|██████████| 938/938 [00:05<00:00, 164.01it/s]\n"
     ]
    },
    {
     "name": "stdout",
     "output_type": "stream",
     "text": [
      "\n",
      "Epoch: 43/80 -- Train Loss: 0.1999\n",
      "--------------------------------------------------\n"
     ]
    },
    {
     "name": "stderr",
     "output_type": "stream",
     "text": [
      "Epoch 44/80: 100%|██████████| 938/938 [00:05<00:00, 159.84it/s]\n"
     ]
    },
    {
     "name": "stdout",
     "output_type": "stream",
     "text": [
      "\n",
      "Epoch: 44/80 -- Train Loss: 0.1990\n",
      "--------------------------------------------------\n"
     ]
    },
    {
     "name": "stderr",
     "output_type": "stream",
     "text": [
      "Epoch 45/80: 100%|██████████| 938/938 [00:05<00:00, 160.58it/s]\n"
     ]
    },
    {
     "name": "stdout",
     "output_type": "stream",
     "text": [
      "\n",
      "Epoch: 45/80 -- Train Loss: 0.1982\n",
      "--------------------------------------------------\n"
     ]
    },
    {
     "name": "stderr",
     "output_type": "stream",
     "text": [
      "Epoch 46/80: 100%|██████████| 938/938 [00:05<00:00, 159.97it/s]\n"
     ]
    },
    {
     "name": "stdout",
     "output_type": "stream",
     "text": [
      "\n",
      "Epoch: 46/80 -- Train Loss: 0.1976\n",
      "--------------------------------------------------\n"
     ]
    },
    {
     "name": "stderr",
     "output_type": "stream",
     "text": [
      "Epoch 47/80: 100%|██████████| 938/938 [00:05<00:00, 160.43it/s]\n"
     ]
    },
    {
     "name": "stdout",
     "output_type": "stream",
     "text": [
      "\n",
      "Epoch: 47/80 -- Train Loss: 0.1968\n",
      "--------------------------------------------------\n"
     ]
    },
    {
     "name": "stderr",
     "output_type": "stream",
     "text": [
      "Epoch 48/80: 100%|██████████| 938/938 [00:06<00:00, 143.85it/s]\n"
     ]
    },
    {
     "name": "stdout",
     "output_type": "stream",
     "text": [
      "\n",
      "Epoch: 48/80 -- Train Loss: 0.1961\n",
      "--------------------------------------------------\n"
     ]
    },
    {
     "name": "stderr",
     "output_type": "stream",
     "text": [
      "Epoch 49/80: 100%|██████████| 938/938 [00:05<00:00, 160.24it/s]\n"
     ]
    },
    {
     "name": "stdout",
     "output_type": "stream",
     "text": [
      "\n",
      "Epoch: 49/80 -- Train Loss: 0.1954\n",
      "--------------------------------------------------\n"
     ]
    },
    {
     "name": "stderr",
     "output_type": "stream",
     "text": [
      "Epoch 50/80: 100%|██████████| 938/938 [00:05<00:00, 161.25it/s]\n"
     ]
    },
    {
     "name": "stdout",
     "output_type": "stream",
     "text": [
      "\n",
      "Epoch: 50/80 -- Train Loss: 0.1948\n",
      "--------------------------------------------------\n"
     ]
    },
    {
     "name": "stderr",
     "output_type": "stream",
     "text": [
      "Epoch 51/80: 100%|██████████| 938/938 [00:05<00:00, 162.08it/s]\n"
     ]
    },
    {
     "name": "stdout",
     "output_type": "stream",
     "text": [
      "\n",
      "Epoch: 51/80 -- Train Loss: 0.1942\n",
      "--------------------------------------------------\n"
     ]
    },
    {
     "name": "stderr",
     "output_type": "stream",
     "text": [
      "Epoch 52/80: 100%|██████████| 938/938 [00:05<00:00, 159.26it/s]\n"
     ]
    },
    {
     "name": "stdout",
     "output_type": "stream",
     "text": [
      "\n",
      "Epoch: 52/80 -- Train Loss: 0.1936\n",
      "--------------------------------------------------\n"
     ]
    },
    {
     "name": "stderr",
     "output_type": "stream",
     "text": [
      "Epoch 53/80: 100%|██████████| 938/938 [00:05<00:00, 161.30it/s]\n"
     ]
    },
    {
     "name": "stdout",
     "output_type": "stream",
     "text": [
      "\n",
      "Epoch: 53/80 -- Train Loss: 0.1930\n",
      "--------------------------------------------------\n"
     ]
    },
    {
     "name": "stderr",
     "output_type": "stream",
     "text": [
      "Epoch 54/80: 100%|██████████| 938/938 [00:06<00:00, 153.67it/s]\n"
     ]
    },
    {
     "name": "stdout",
     "output_type": "stream",
     "text": [
      "\n",
      "Epoch: 54/80 -- Train Loss: 0.1922\n",
      "--------------------------------------------------\n"
     ]
    },
    {
     "name": "stderr",
     "output_type": "stream",
     "text": [
      "Epoch 55/80: 100%|██████████| 938/938 [00:05<00:00, 160.90it/s]\n"
     ]
    },
    {
     "name": "stdout",
     "output_type": "stream",
     "text": [
      "\n",
      "Epoch: 55/80 -- Train Loss: 0.1915\n",
      "--------------------------------------------------\n"
     ]
    },
    {
     "name": "stderr",
     "output_type": "stream",
     "text": [
      "Epoch 56/80: 100%|██████████| 938/938 [00:05<00:00, 160.44it/s]\n"
     ]
    },
    {
     "name": "stdout",
     "output_type": "stream",
     "text": [
      "\n",
      "Epoch: 56/80 -- Train Loss: 0.1909\n",
      "--------------------------------------------------\n"
     ]
    },
    {
     "name": "stderr",
     "output_type": "stream",
     "text": [
      "Epoch 57/80: 100%|██████████| 938/938 [00:05<00:00, 159.12it/s]\n"
     ]
    },
    {
     "name": "stdout",
     "output_type": "stream",
     "text": [
      "\n",
      "Epoch: 57/80 -- Train Loss: 0.1904\n",
      "--------------------------------------------------\n"
     ]
    },
    {
     "name": "stderr",
     "output_type": "stream",
     "text": [
      "Epoch 58/80: 100%|██████████| 938/938 [00:06<00:00, 148.96it/s]\n"
     ]
    },
    {
     "name": "stdout",
     "output_type": "stream",
     "text": [
      "\n",
      "Epoch: 58/80 -- Train Loss: 0.1898\n",
      "--------------------------------------------------\n"
     ]
    },
    {
     "name": "stderr",
     "output_type": "stream",
     "text": [
      "Epoch 59/80: 100%|██████████| 938/938 [00:05<00:00, 158.44it/s]\n"
     ]
    },
    {
     "name": "stdout",
     "output_type": "stream",
     "text": [
      "\n",
      "Epoch: 59/80 -- Train Loss: 0.1891\n",
      "--------------------------------------------------\n"
     ]
    },
    {
     "name": "stderr",
     "output_type": "stream",
     "text": [
      "Epoch 60/80: 100%|██████████| 938/938 [00:05<00:00, 157.97it/s]\n"
     ]
    },
    {
     "name": "stdout",
     "output_type": "stream",
     "text": [
      "\n",
      "Epoch: 60/80 -- Train Loss: 0.1884\n",
      "--------------------------------------------------\n"
     ]
    },
    {
     "name": "stderr",
     "output_type": "stream",
     "text": [
      "Epoch 61/80: 100%|██████████| 938/938 [00:05<00:00, 157.66it/s]\n"
     ]
    },
    {
     "name": "stdout",
     "output_type": "stream",
     "text": [
      "\n",
      "Epoch: 61/80 -- Train Loss: 0.1875\n",
      "--------------------------------------------------\n"
     ]
    },
    {
     "name": "stderr",
     "output_type": "stream",
     "text": [
      "Epoch 62/80: 100%|██████████| 938/938 [00:05<00:00, 158.33it/s]\n"
     ]
    },
    {
     "name": "stdout",
     "output_type": "stream",
     "text": [
      "\n",
      "Epoch: 62/80 -- Train Loss: 0.1865\n",
      "--------------------------------------------------\n"
     ]
    },
    {
     "name": "stderr",
     "output_type": "stream",
     "text": [
      "Epoch 63/80: 100%|██████████| 938/938 [00:05<00:00, 160.25it/s]\n"
     ]
    },
    {
     "name": "stdout",
     "output_type": "stream",
     "text": [
      "\n",
      "Epoch: 63/80 -- Train Loss: 0.1853\n",
      "--------------------------------------------------\n"
     ]
    },
    {
     "name": "stderr",
     "output_type": "stream",
     "text": [
      "Epoch 64/80: 100%|██████████| 938/938 [00:06<00:00, 154.78it/s]\n"
     ]
    },
    {
     "name": "stdout",
     "output_type": "stream",
     "text": [
      "\n",
      "Epoch: 64/80 -- Train Loss: 0.1845\n",
      "--------------------------------------------------\n"
     ]
    },
    {
     "name": "stderr",
     "output_type": "stream",
     "text": [
      "Epoch 65/80: 100%|██████████| 938/938 [00:05<00:00, 157.46it/s]\n"
     ]
    },
    {
     "name": "stdout",
     "output_type": "stream",
     "text": [
      "\n",
      "Epoch: 65/80 -- Train Loss: 0.1836\n",
      "--------------------------------------------------\n"
     ]
    },
    {
     "name": "stderr",
     "output_type": "stream",
     "text": [
      "Epoch 66/80: 100%|██████████| 938/938 [00:05<00:00, 161.59it/s]\n"
     ]
    },
    {
     "name": "stdout",
     "output_type": "stream",
     "text": [
      "\n",
      "Epoch: 66/80 -- Train Loss: 0.1829\n",
      "--------------------------------------------------\n"
     ]
    },
    {
     "name": "stderr",
     "output_type": "stream",
     "text": [
      "Epoch 67/80: 100%|██████████| 938/938 [00:05<00:00, 160.56it/s]\n"
     ]
    },
    {
     "name": "stdout",
     "output_type": "stream",
     "text": [
      "\n",
      "Epoch: 67/80 -- Train Loss: 0.1822\n",
      "--------------------------------------------------\n"
     ]
    },
    {
     "name": "stderr",
     "output_type": "stream",
     "text": [
      "Epoch 68/80: 100%|██████████| 938/938 [00:05<00:00, 162.73it/s]\n"
     ]
    },
    {
     "name": "stdout",
     "output_type": "stream",
     "text": [
      "\n",
      "Epoch: 68/80 -- Train Loss: 0.1815\n",
      "--------------------------------------------------\n"
     ]
    },
    {
     "name": "stderr",
     "output_type": "stream",
     "text": [
      "Epoch 69/80: 100%|██████████| 938/938 [00:05<00:00, 159.04it/s]\n"
     ]
    },
    {
     "name": "stdout",
     "output_type": "stream",
     "text": [
      "\n",
      "Epoch: 69/80 -- Train Loss: 0.1810\n",
      "--------------------------------------------------\n"
     ]
    },
    {
     "name": "stderr",
     "output_type": "stream",
     "text": [
      "Epoch 70/80: 100%|██████████| 938/938 [00:05<00:00, 158.72it/s]\n"
     ]
    },
    {
     "name": "stdout",
     "output_type": "stream",
     "text": [
      "\n",
      "Epoch: 70/80 -- Train Loss: 0.1802\n",
      "--------------------------------------------------\n"
     ]
    },
    {
     "name": "stderr",
     "output_type": "stream",
     "text": [
      "Epoch 71/80: 100%|██████████| 938/938 [00:05<00:00, 158.58it/s]\n"
     ]
    },
    {
     "name": "stdout",
     "output_type": "stream",
     "text": [
      "\n",
      "Epoch: 71/80 -- Train Loss: 0.1797\n",
      "--------------------------------------------------\n"
     ]
    },
    {
     "name": "stderr",
     "output_type": "stream",
     "text": [
      "Epoch 72/80: 100%|██████████| 938/938 [00:05<00:00, 158.18it/s]\n"
     ]
    },
    {
     "name": "stdout",
     "output_type": "stream",
     "text": [
      "\n",
      "Epoch: 72/80 -- Train Loss: 0.1792\n",
      "--------------------------------------------------\n"
     ]
    },
    {
     "name": "stderr",
     "output_type": "stream",
     "text": [
      "Epoch 73/80: 100%|██████████| 938/938 [00:05<00:00, 158.52it/s]\n"
     ]
    },
    {
     "name": "stdout",
     "output_type": "stream",
     "text": [
      "\n",
      "Epoch: 73/80 -- Train Loss: 0.1786\n",
      "--------------------------------------------------\n"
     ]
    },
    {
     "name": "stderr",
     "output_type": "stream",
     "text": [
      "Epoch 74/80: 100%|██████████| 938/938 [00:06<00:00, 155.61it/s]\n"
     ]
    },
    {
     "name": "stdout",
     "output_type": "stream",
     "text": [
      "\n",
      "Epoch: 74/80 -- Train Loss: 0.1781\n",
      "--------------------------------------------------\n"
     ]
    },
    {
     "name": "stderr",
     "output_type": "stream",
     "text": [
      "Epoch 75/80: 100%|██████████| 938/938 [00:06<00:00, 155.55it/s]\n"
     ]
    },
    {
     "name": "stdout",
     "output_type": "stream",
     "text": [
      "\n",
      "Epoch: 75/80 -- Train Loss: 0.1775\n",
      "--------------------------------------------------\n"
     ]
    },
    {
     "name": "stderr",
     "output_type": "stream",
     "text": [
      "Epoch 76/80: 100%|██████████| 938/938 [00:05<00:00, 156.91it/s]\n"
     ]
    },
    {
     "name": "stdout",
     "output_type": "stream",
     "text": [
      "\n",
      "Epoch: 76/80 -- Train Loss: 0.1771\n",
      "--------------------------------------------------\n"
     ]
    },
    {
     "name": "stderr",
     "output_type": "stream",
     "text": [
      "Epoch 77/80: 100%|██████████| 938/938 [00:05<00:00, 159.50it/s]\n"
     ]
    },
    {
     "name": "stdout",
     "output_type": "stream",
     "text": [
      "\n",
      "Epoch: 77/80 -- Train Loss: 0.1766\n",
      "--------------------------------------------------\n"
     ]
    },
    {
     "name": "stderr",
     "output_type": "stream",
     "text": [
      "Epoch 78/80: 100%|██████████| 938/938 [00:05<00:00, 156.44it/s]\n"
     ]
    },
    {
     "name": "stdout",
     "output_type": "stream",
     "text": [
      "\n",
      "Epoch: 78/80 -- Train Loss: 0.1762\n",
      "--------------------------------------------------\n"
     ]
    },
    {
     "name": "stderr",
     "output_type": "stream",
     "text": [
      "Epoch 79/80: 100%|██████████| 938/938 [00:05<00:00, 157.26it/s]\n"
     ]
    },
    {
     "name": "stdout",
     "output_type": "stream",
     "text": [
      "\n",
      "Epoch: 79/80 -- Train Loss: 0.1756\n",
      "--------------------------------------------------\n"
     ]
    },
    {
     "name": "stderr",
     "output_type": "stream",
     "text": [
      "Epoch 80/80: 100%|██████████| 938/938 [00:06<00:00, 140.10it/s]"
     ]
    },
    {
     "name": "stdout",
     "output_type": "stream",
     "text": [
      "\n",
      "Epoch: 80/80 -- Train Loss: 0.1753\n",
      "--------------------------------------------------\n"
     ]
    },
    {
     "name": "stderr",
     "output_type": "stream",
     "text": [
      "\n"
     ]
    }
   ],
   "source": [
    "set_seed()\n",
    "\n",
    "model = SAE(784, [256, 128, 20], 1e-3, 3e-2)\n",
    "\n",
    "epochs = 80\n",
    "lr = 3e-4\n",
    "optimizer = torch.optim.Adam(model.parameters(), lr=lr)\n",
    "\n",
    "# device = torch.device('cuda') if torch.cuda.is_available else torch.device('cpu')\n",
    "device = torch.device('cpu')\n",
    "\n",
    "train_losses  = train_model(model, train_dataloader, epochs, optimizer, device)"
   ]
  },
  {
   "cell_type": "code",
   "execution_count": 73,
   "metadata": {},
   "outputs": [
    {
     "data": {
      "image/png": "[encoded data removed]",
      "text/plain": [
       "<Figure size 600x400 with 1 Axes>"
      ]
     },
     "metadata": {},
     "output_type": "display_data"
    }
   ],
   "source": [
    "plt.figure(figsize=(6, 4))\n",
    "plt.title('Training Loss')\n",
    "plt.xlabel('Epochs')\n",
    "plt.ylabel('Mean Squared Error')\n",
    "plt.plot(train_losses, color='orange', linewidth=2)\n",
    "plt.grid(True)\n",
    "plt.show()"
   ]
  },
  {
   "cell_type": "markdown",
   "metadata": {},
   "source": [
    "Look how much better the image reconstructions have now become! Obviously, the longer we train for, the better the results get. "
   ]
  },
  {
   "cell_type": "code",
   "execution_count": 75,
   "metadata": {},
   "outputs": [
    {
     "data": {
      "image/png": "[encoded data removed]",
      "text/plain": [
       "<Figure size 1500x600 with 10 Axes>"
      ]
     },
     "metadata": {},
     "output_type": "display_data"
    }
   ],
   "source": [
    "# Let's sample some images from the trained SAE and see far we have come!\n",
    "plot_images(model, train_dataloader, device, 5, False)"
   ]
  },
  {
   "cell_type": "markdown",
   "metadata": {},
   "source": [
    "If you noticed, the SAE that we just trained was a under-complete case, lets now move into a very simple over complete case and see how it fares!"
   ]
  },
  {
   "cell_type": "code",
   "execution_count": 77,
   "metadata": {},
   "outputs": [
    {
     "name": "stderr",
     "output_type": "stream",
     "text": [
      "Epoch 1/80:   0%|          | 0/938 [00:00<?, ?it/s]"
     ]
    },
    {
     "name": "stderr",
     "output_type": "stream",
     "text": [
      "Epoch 1/80: 100%|██████████| 938/938 [00:08<00:00, 115.04it/s]\n"
     ]
    },
    {
     "name": "stdout",
     "output_type": "stream",
     "text": [
      "\n",
      "Epoch: 1/80 -- Train Loss: 1.4328\n",
      "--------------------------------------------------\n"
     ]
    },
    {
     "name": "stderr",
     "output_type": "stream",
     "text": [
      "Epoch 2/80: 100%|██████████| 938/938 [00:07<00:00, 119.59it/s]\n"
     ]
    },
    {
     "name": "stdout",
     "output_type": "stream",
     "text": [
      "\n",
      "Epoch: 2/80 -- Train Loss: 1.1536\n",
      "--------------------------------------------------\n"
     ]
    },
    {
     "name": "stderr",
     "output_type": "stream",
     "text": [
      "Epoch 3/80: 100%|██████████| 938/938 [00:08<00:00, 109.76it/s]\n"
     ]
    },
    {
     "name": "stdout",
     "output_type": "stream",
     "text": [
      "\n",
      "Epoch: 3/80 -- Train Loss: 1.0151\n",
      "--------------------------------------------------\n"
     ]
    },
    {
     "name": "stderr",
     "output_type": "stream",
     "text": [
      "Epoch 4/80: 100%|██████████| 938/938 [00:08<00:00, 106.89it/s]\n"
     ]
    },
    {
     "name": "stdout",
     "output_type": "stream",
     "text": [
      "\n",
      "Epoch: 4/80 -- Train Loss: 0.9386\n",
      "--------------------------------------------------\n"
     ]
    },
    {
     "name": "stderr",
     "output_type": "stream",
     "text": [
      "Epoch 5/80: 100%|██████████| 938/938 [00:07<00:00, 117.38it/s]\n"
     ]
    },
    {
     "name": "stdout",
     "output_type": "stream",
     "text": [
      "\n",
      "Epoch: 5/80 -- Train Loss: 0.8905\n",
      "--------------------------------------------------\n"
     ]
    },
    {
     "name": "stderr",
     "output_type": "stream",
     "text": [
      "Epoch 6/80: 100%|██████████| 938/938 [00:08<00:00, 116.39it/s]\n"
     ]
    },
    {
     "name": "stdout",
     "output_type": "stream",
     "text": [
      "\n",
      "Epoch: 6/80 -- Train Loss: 0.8526\n",
      "--------------------------------------------------\n"
     ]
    },
    {
     "name": "stderr",
     "output_type": "stream",
     "text": [
      "Epoch 7/80: 100%|██████████| 938/938 [00:08<00:00, 113.50it/s]\n"
     ]
    },
    {
     "name": "stdout",
     "output_type": "stream",
     "text": [
      "\n",
      "Epoch: 7/80 -- Train Loss: 0.8288\n",
      "--------------------------------------------------\n"
     ]
    },
    {
     "name": "stderr",
     "output_type": "stream",
     "text": [
      "Epoch 8/80: 100%|██████████| 938/938 [00:08<00:00, 105.02it/s]\n"
     ]
    },
    {
     "name": "stdout",
     "output_type": "stream",
     "text": [
      "\n",
      "Epoch: 8/80 -- Train Loss: 0.8013\n",
      "--------------------------------------------------\n"
     ]
    },
    {
     "name": "stderr",
     "output_type": "stream",
     "text": [
      "Epoch 9/80: 100%|██████████| 938/938 [00:08<00:00, 111.01it/s]\n"
     ]
    },
    {
     "name": "stdout",
     "output_type": "stream",
     "text": [
      "\n",
      "Epoch: 9/80 -- Train Loss: 0.7795\n",
      "--------------------------------------------------\n"
     ]
    },
    {
     "name": "stderr",
     "output_type": "stream",
     "text": [
      "Epoch 10/80: 100%|██████████| 938/938 [00:08<00:00, 112.55it/s]\n"
     ]
    },
    {
     "name": "stdout",
     "output_type": "stream",
     "text": [
      "\n",
      "Epoch: 10/80 -- Train Loss: 0.7603\n",
      "--------------------------------------------------\n"
     ]
    },
    {
     "name": "stderr",
     "output_type": "stream",
     "text": [
      "Epoch 11/80: 100%|██████████| 938/938 [00:08<00:00, 111.33it/s]\n"
     ]
    },
    {
     "name": "stdout",
     "output_type": "stream",
     "text": [
      "\n",
      "Epoch: 11/80 -- Train Loss: 0.7524\n",
      "--------------------------------------------------\n"
     ]
    },
    {
     "name": "stderr",
     "output_type": "stream",
     "text": [
      "Epoch 12/80: 100%|██████████| 938/938 [00:08<00:00, 112.71it/s]\n"
     ]
    },
    {
     "name": "stdout",
     "output_type": "stream",
     "text": [
      "\n",
      "Epoch: 12/80 -- Train Loss: 0.7317\n",
      "--------------------------------------------------\n"
     ]
    },
    {
     "name": "stderr",
     "output_type": "stream",
     "text": [
      "Epoch 13/80: 100%|██████████| 938/938 [00:08<00:00, 111.93it/s]\n"
     ]
    },
    {
     "name": "stdout",
     "output_type": "stream",
     "text": [
      "\n",
      "Epoch: 13/80 -- Train Loss: 0.7284\n",
      "--------------------------------------------------\n"
     ]
    },
    {
     "name": "stderr",
     "output_type": "stream",
     "text": [
      "Epoch 14/80: 100%|██████████| 938/938 [00:09<00:00, 100.70it/s]\n"
     ]
    },
    {
     "name": "stdout",
     "output_type": "stream",
     "text": [
      "\n",
      "Epoch: 14/80 -- Train Loss: 0.7195\n",
      "--------------------------------------------------\n"
     ]
    },
    {
     "name": "stderr",
     "output_type": "stream",
     "text": [
      "Epoch 15/80: 100%|██████████| 938/938 [00:09<00:00, 101.48it/s]\n"
     ]
    },
    {
     "name": "stdout",
     "output_type": "stream",
     "text": [
      "\n",
      "Epoch: 15/80 -- Train Loss: 0.7130\n",
      "--------------------------------------------------\n"
     ]
    },
    {
     "name": "stderr",
     "output_type": "stream",
     "text": [
      "Epoch 16/80: 100%|██████████| 938/938 [00:08<00:00, 111.45it/s]\n"
     ]
    },
    {
     "name": "stdout",
     "output_type": "stream",
     "text": [
      "\n",
      "Epoch: 16/80 -- Train Loss: 0.7054\n",
      "--------------------------------------------------\n"
     ]
    },
    {
     "name": "stderr",
     "output_type": "stream",
     "text": [
      "Epoch 17/80: 100%|██████████| 938/938 [00:08<00:00, 105.15it/s]\n"
     ]
    },
    {
     "name": "stdout",
     "output_type": "stream",
     "text": [
      "\n",
      "Epoch: 17/80 -- Train Loss: 0.6976\n",
      "--------------------------------------------------\n"
     ]
    },
    {
     "name": "stderr",
     "output_type": "stream",
     "text": [
      "Epoch 18/80: 100%|██████████| 938/938 [00:08<00:00, 112.27it/s]\n"
     ]
    },
    {
     "name": "stdout",
     "output_type": "stream",
     "text": [
      "\n",
      "Epoch: 18/80 -- Train Loss: 0.6920\n",
      "--------------------------------------------------\n"
     ]
    },
    {
     "name": "stderr",
     "output_type": "stream",
     "text": [
      "Epoch 19/80: 100%|██████████| 938/938 [00:08<00:00, 113.31it/s]\n"
     ]
    },
    {
     "name": "stdout",
     "output_type": "stream",
     "text": [
      "\n",
      "Epoch: 19/80 -- Train Loss: 0.6832\n",
      "--------------------------------------------------\n"
     ]
    },
    {
     "name": "stderr",
     "output_type": "stream",
     "text": [
      "Epoch 20/80: 100%|██████████| 938/938 [00:08<00:00, 112.05it/s]\n"
     ]
    },
    {
     "name": "stdout",
     "output_type": "stream",
     "text": [
      "\n",
      "Epoch: 20/80 -- Train Loss: 0.6778\n",
      "--------------------------------------------------\n"
     ]
    },
    {
     "name": "stderr",
     "output_type": "stream",
     "text": [
      "Epoch 21/80: 100%|██████████| 938/938 [00:08<00:00, 111.44it/s]\n"
     ]
    },
    {
     "name": "stdout",
     "output_type": "stream",
     "text": [
      "\n",
      "Epoch: 21/80 -- Train Loss: 0.6838\n",
      "--------------------------------------------------\n"
     ]
    },
    {
     "name": "stderr",
     "output_type": "stream",
     "text": [
      "Epoch 22/80: 100%|██████████| 938/938 [00:08<00:00, 111.65it/s]\n"
     ]
    },
    {
     "name": "stdout",
     "output_type": "stream",
     "text": [
      "\n",
      "Epoch: 22/80 -- Train Loss: 0.6745\n",
      "--------------------------------------------------\n"
     ]
    },
    {
     "name": "stderr",
     "output_type": "stream",
     "text": [
      "Epoch 23/80: 100%|██████████| 938/938 [00:08<00:00, 109.62it/s]\n"
     ]
    },
    {
     "name": "stdout",
     "output_type": "stream",
     "text": [
      "\n",
      "Epoch: 23/80 -- Train Loss: 0.6696\n",
      "--------------------------------------------------\n"
     ]
    },
    {
     "name": "stderr",
     "output_type": "stream",
     "text": [
      "Epoch 24/80: 100%|██████████| 938/938 [00:08<00:00, 111.22it/s]\n"
     ]
    },
    {
     "name": "stdout",
     "output_type": "stream",
     "text": [
      "\n",
      "Epoch: 24/80 -- Train Loss: 0.6674\n",
      "--------------------------------------------------\n"
     ]
    },
    {
     "name": "stderr",
     "output_type": "stream",
     "text": [
      "Epoch 25/80: 100%|██████████| 938/938 [00:08<00:00, 110.82it/s]\n"
     ]
    },
    {
     "name": "stdout",
     "output_type": "stream",
     "text": [
      "\n",
      "Epoch: 25/80 -- Train Loss: 0.6696\n",
      "--------------------------------------------------\n"
     ]
    },
    {
     "name": "stderr",
     "output_type": "stream",
     "text": [
      "Epoch 26/80: 100%|██████████| 938/938 [00:09<00:00, 96.43it/s] \n"
     ]
    },
    {
     "name": "stdout",
     "output_type": "stream",
     "text": [
      "\n",
      "Epoch: 26/80 -- Train Loss: 0.6655\n",
      "--------------------------------------------------\n"
     ]
    },
    {
     "name": "stderr",
     "output_type": "stream",
     "text": [
      "Epoch 27/80: 100%|██████████| 938/938 [00:08<00:00, 106.85it/s]\n"
     ]
    },
    {
     "name": "stdout",
     "output_type": "stream",
     "text": [
      "\n",
      "Epoch: 27/80 -- Train Loss: 0.6611\n",
      "--------------------------------------------------\n"
     ]
    },
    {
     "name": "stderr",
     "output_type": "stream",
     "text": [
      "Epoch 28/80: 100%|██████████| 938/938 [00:08<00:00, 112.20it/s]\n"
     ]
    },
    {
     "name": "stdout",
     "output_type": "stream",
     "text": [
      "\n",
      "Epoch: 28/80 -- Train Loss: 0.6561\n",
      "--------------------------------------------------\n"
     ]
    },
    {
     "name": "stderr",
     "output_type": "stream",
     "text": [
      "Epoch 29/80: 100%|██████████| 938/938 [00:08<00:00, 108.98it/s]\n"
     ]
    },
    {
     "name": "stdout",
     "output_type": "stream",
     "text": [
      "\n",
      "Epoch: 29/80 -- Train Loss: 0.6583\n",
      "--------------------------------------------------\n"
     ]
    },
    {
     "name": "stderr",
     "output_type": "stream",
     "text": [
      "Epoch 30/80: 100%|██████████| 938/938 [00:08<00:00, 104.31it/s]\n"
     ]
    },
    {
     "name": "stdout",
     "output_type": "stream",
     "text": [
      "\n",
      "Epoch: 30/80 -- Train Loss: 0.6574\n",
      "--------------------------------------------------\n"
     ]
    },
    {
     "name": "stderr",
     "output_type": "stream",
     "text": [
      "Epoch 31/80: 100%|██████████| 938/938 [00:08<00:00, 108.87it/s]\n"
     ]
    },
    {
     "name": "stdout",
     "output_type": "stream",
     "text": [
      "\n",
      "Epoch: 31/80 -- Train Loss: 0.6519\n",
      "--------------------------------------------------\n"
     ]
    },
    {
     "name": "stderr",
     "output_type": "stream",
     "text": [
      "Epoch 32/80: 100%|██████████| 938/938 [00:09<00:00, 102.45it/s]\n"
     ]
    },
    {
     "name": "stdout",
     "output_type": "stream",
     "text": [
      "\n",
      "Epoch: 32/80 -- Train Loss: 0.6536\n",
      "--------------------------------------------------\n"
     ]
    },
    {
     "name": "stderr",
     "output_type": "stream",
     "text": [
      "Epoch 33/80: 100%|██████████| 938/938 [00:08<00:00, 109.91it/s]\n"
     ]
    },
    {
     "name": "stdout",
     "output_type": "stream",
     "text": [
      "\n",
      "Epoch: 33/80 -- Train Loss: 0.6525\n",
      "--------------------------------------------------\n"
     ]
    },
    {
     "name": "stderr",
     "output_type": "stream",
     "text": [
      "Epoch 34/80: 100%|██████████| 938/938 [00:08<00:00, 110.99it/s]\n"
     ]
    },
    {
     "name": "stdout",
     "output_type": "stream",
     "text": [
      "\n",
      "Epoch: 34/80 -- Train Loss: 0.6516\n",
      "--------------------------------------------------\n"
     ]
    },
    {
     "name": "stderr",
     "output_type": "stream",
     "text": [
      "Epoch 35/80: 100%|██████████| 938/938 [00:08<00:00, 108.65it/s]\n"
     ]
    },
    {
     "name": "stdout",
     "output_type": "stream",
     "text": [
      "\n",
      "Epoch: 35/80 -- Train Loss: 0.6485\n",
      "--------------------------------------------------\n"
     ]
    },
    {
     "name": "stderr",
     "output_type": "stream",
     "text": [
      "Epoch 36/80: 100%|██████████| 938/938 [00:08<00:00, 106.99it/s]\n"
     ]
    },
    {
     "name": "stdout",
     "output_type": "stream",
     "text": [
      "\n",
      "Epoch: 36/80 -- Train Loss: 0.6440\n",
      "--------------------------------------------------\n"
     ]
    },
    {
     "name": "stderr",
     "output_type": "stream",
     "text": [
      "Epoch 37/80: 100%|██████████| 938/938 [00:08<00:00, 109.30it/s]\n"
     ]
    },
    {
     "name": "stdout",
     "output_type": "stream",
     "text": [
      "\n",
      "Epoch: 37/80 -- Train Loss: 0.6410\n",
      "--------------------------------------------------\n"
     ]
    },
    {
     "name": "stderr",
     "output_type": "stream",
     "text": [
      "Epoch 38/80: 100%|██████████| 938/938 [00:08<00:00, 111.78it/s]\n"
     ]
    },
    {
     "name": "stdout",
     "output_type": "stream",
     "text": [
      "\n",
      "Epoch: 38/80 -- Train Loss: 0.6393\n",
      "--------------------------------------------------\n"
     ]
    },
    {
     "name": "stderr",
     "output_type": "stream",
     "text": [
      "Epoch 39/80: 100%|██████████| 938/938 [00:08<00:00, 104.94it/s]\n"
     ]
    },
    {
     "name": "stdout",
     "output_type": "stream",
     "text": [
      "\n",
      "Epoch: 39/80 -- Train Loss: 0.6405\n",
      "--------------------------------------------------\n"
     ]
    },
    {
     "name": "stderr",
     "output_type": "stream",
     "text": [
      "Epoch 40/80: 100%|██████████| 938/938 [00:09<00:00, 98.89it/s] \n"
     ]
    },
    {
     "name": "stdout",
     "output_type": "stream",
     "text": [
      "\n",
      "Epoch: 40/80 -- Train Loss: 0.6436\n",
      "--------------------------------------------------\n"
     ]
    },
    {
     "name": "stderr",
     "output_type": "stream",
     "text": [
      "Epoch 41/80: 100%|██████████| 938/938 [00:09<00:00, 101.48it/s]\n"
     ]
    },
    {
     "name": "stdout",
     "output_type": "stream",
     "text": [
      "\n",
      "Epoch: 41/80 -- Train Loss: 0.6365\n",
      "--------------------------------------------------\n"
     ]
    },
    {
     "name": "stderr",
     "output_type": "stream",
     "text": [
      "Epoch 42/80: 100%|██████████| 938/938 [00:08<00:00, 105.37it/s]\n"
     ]
    },
    {
     "name": "stdout",
     "output_type": "stream",
     "text": [
      "\n",
      "Epoch: 42/80 -- Train Loss: 0.6371\n",
      "--------------------------------------------------\n"
     ]
    },
    {
     "name": "stderr",
     "output_type": "stream",
     "text": [
      "Epoch 43/80: 100%|██████████| 938/938 [00:08<00:00, 107.56it/s]\n"
     ]
    },
    {
     "name": "stdout",
     "output_type": "stream",
     "text": [
      "\n",
      "Epoch: 43/80 -- Train Loss: 0.6364\n",
      "--------------------------------------------------\n"
     ]
    },
    {
     "name": "stderr",
     "output_type": "stream",
     "text": [
      "Epoch 44/80: 100%|██████████| 938/938 [00:08<00:00, 109.42it/s]\n"
     ]
    },
    {
     "name": "stdout",
     "output_type": "stream",
     "text": [
      "\n",
      "Epoch: 44/80 -- Train Loss: 0.6325\n",
      "--------------------------------------------------\n"
     ]
    },
    {
     "name": "stderr",
     "output_type": "stream",
     "text": [
      "Epoch 45/80: 100%|██████████| 938/938 [00:08<00:00, 108.85it/s]\n"
     ]
    },
    {
     "name": "stdout",
     "output_type": "stream",
     "text": [
      "\n",
      "Epoch: 45/80 -- Train Loss: 0.6341\n",
      "--------------------------------------------------\n"
     ]
    },
    {
     "name": "stderr",
     "output_type": "stream",
     "text": [
      "Epoch 46/80: 100%|██████████| 938/938 [00:08<00:00, 108.24it/s]\n"
     ]
    },
    {
     "name": "stdout",
     "output_type": "stream",
     "text": [
      "\n",
      "Epoch: 46/80 -- Train Loss: 0.6349\n",
      "--------------------------------------------------\n"
     ]
    },
    {
     "name": "stderr",
     "output_type": "stream",
     "text": [
      "Epoch 47/80: 100%|██████████| 938/938 [00:08<00:00, 105.68it/s]\n"
     ]
    },
    {
     "name": "stdout",
     "output_type": "stream",
     "text": [
      "\n",
      "Epoch: 47/80 -- Train Loss: 0.6374\n",
      "--------------------------------------------------\n"
     ]
    },
    {
     "name": "stderr",
     "output_type": "stream",
     "text": [
      "Epoch 48/80: 100%|██████████| 938/938 [00:09<00:00, 103.48it/s]\n"
     ]
    },
    {
     "name": "stdout",
     "output_type": "stream",
     "text": [
      "\n",
      "Epoch: 48/80 -- Train Loss: 0.6339\n",
      "--------------------------------------------------\n"
     ]
    },
    {
     "name": "stderr",
     "output_type": "stream",
     "text": [
      "Epoch 49/80: 100%|██████████| 938/938 [00:09<00:00, 101.69it/s]\n"
     ]
    },
    {
     "name": "stdout",
     "output_type": "stream",
     "text": [
      "\n",
      "Epoch: 49/80 -- Train Loss: 0.6311\n",
      "--------------------------------------------------\n"
     ]
    },
    {
     "name": "stderr",
     "output_type": "stream",
     "text": [
      "Epoch 50/80: 100%|██████████| 938/938 [00:09<00:00, 102.08it/s]\n"
     ]
    },
    {
     "name": "stdout",
     "output_type": "stream",
     "text": [
      "\n",
      "Epoch: 50/80 -- Train Loss: 0.6356\n",
      "--------------------------------------------------\n"
     ]
    },
    {
     "name": "stderr",
     "output_type": "stream",
     "text": [
      "Epoch 51/80: 100%|██████████| 938/938 [00:08<00:00, 109.20it/s]\n"
     ]
    },
    {
     "name": "stdout",
     "output_type": "stream",
     "text": [
      "\n",
      "Epoch: 51/80 -- Train Loss: 0.6330\n",
      "--------------------------------------------------\n"
     ]
    },
    {
     "name": "stderr",
     "output_type": "stream",
     "text": [
      "Epoch 52/80: 100%|██████████| 938/938 [00:08<00:00, 109.82it/s]\n"
     ]
    },
    {
     "name": "stdout",
     "output_type": "stream",
     "text": [
      "\n",
      "Epoch: 52/80 -- Train Loss: 0.6280\n",
      "--------------------------------------------------\n"
     ]
    },
    {
     "name": "stderr",
     "output_type": "stream",
     "text": [
      "Epoch 53/80: 100%|██████████| 938/938 [00:08<00:00, 109.70it/s]\n"
     ]
    },
    {
     "name": "stdout",
     "output_type": "stream",
     "text": [
      "\n",
      "Epoch: 53/80 -- Train Loss: 0.6293\n",
      "--------------------------------------------------\n"
     ]
    },
    {
     "name": "stderr",
     "output_type": "stream",
     "text": [
      "Epoch 54/80: 100%|██████████| 938/938 [00:08<00:00, 109.17it/s]\n"
     ]
    },
    {
     "name": "stdout",
     "output_type": "stream",
     "text": [
      "\n",
      "Epoch: 54/80 -- Train Loss: 0.6304\n",
      "--------------------------------------------------\n"
     ]
    },
    {
     "name": "stderr",
     "output_type": "stream",
     "text": [
      "Epoch 55/80: 100%|██████████| 938/938 [00:08<00:00, 110.15it/s]\n"
     ]
    },
    {
     "name": "stdout",
     "output_type": "stream",
     "text": [
      "\n",
      "Epoch: 55/80 -- Train Loss: 0.6278\n",
      "--------------------------------------------------\n"
     ]
    },
    {
     "name": "stderr",
     "output_type": "stream",
     "text": [
      "Epoch 56/80: 100%|██████████| 938/938 [00:08<00:00, 109.93it/s]\n"
     ]
    },
    {
     "name": "stdout",
     "output_type": "stream",
     "text": [
      "\n",
      "Epoch: 56/80 -- Train Loss: 0.6340\n",
      "--------------------------------------------------\n"
     ]
    },
    {
     "name": "stderr",
     "output_type": "stream",
     "text": [
      "Epoch 57/80: 100%|██████████| 938/938 [00:09<00:00, 99.92it/s] \n"
     ]
    },
    {
     "name": "stdout",
     "output_type": "stream",
     "text": [
      "\n",
      "Epoch: 57/80 -- Train Loss: 0.6375\n",
      "--------------------------------------------------\n"
     ]
    },
    {
     "name": "stderr",
     "output_type": "stream",
     "text": [
      "Epoch 58/80: 100%|██████████| 938/938 [00:09<00:00, 103.86it/s]\n"
     ]
    },
    {
     "name": "stdout",
     "output_type": "stream",
     "text": [
      "\n",
      "Epoch: 58/80 -- Train Loss: 0.6328\n",
      "--------------------------------------------------\n"
     ]
    },
    {
     "name": "stderr",
     "output_type": "stream",
     "text": [
      "Epoch 59/80: 100%|██████████| 938/938 [00:09<00:00, 102.29it/s]\n"
     ]
    },
    {
     "name": "stdout",
     "output_type": "stream",
     "text": [
      "\n",
      "Epoch: 59/80 -- Train Loss: 0.6290\n",
      "--------------------------------------------------\n"
     ]
    },
    {
     "name": "stderr",
     "output_type": "stream",
     "text": [
      "Epoch 60/80: 100%|██████████| 938/938 [00:09<00:00, 101.81it/s]\n"
     ]
    },
    {
     "name": "stdout",
     "output_type": "stream",
     "text": [
      "\n",
      "Epoch: 60/80 -- Train Loss: 0.6256\n",
      "--------------------------------------------------\n"
     ]
    },
    {
     "name": "stderr",
     "output_type": "stream",
     "text": [
      "Epoch 61/80: 100%|██████████| 938/938 [00:09<00:00, 99.03it/s] \n"
     ]
    },
    {
     "name": "stdout",
     "output_type": "stream",
     "text": [
      "\n",
      "Epoch: 61/80 -- Train Loss: 0.6256\n",
      "--------------------------------------------------\n"
     ]
    },
    {
     "name": "stderr",
     "output_type": "stream",
     "text": [
      "Epoch 62/80: 100%|██████████| 938/938 [00:08<00:00, 108.02it/s]\n"
     ]
    },
    {
     "name": "stdout",
     "output_type": "stream",
     "text": [
      "\n",
      "Epoch: 62/80 -- Train Loss: 0.6230\n",
      "--------------------------------------------------\n"
     ]
    },
    {
     "name": "stderr",
     "output_type": "stream",
     "text": [
      "Epoch 63/80: 100%|██████████| 938/938 [00:09<00:00, 101.12it/s]\n"
     ]
    },
    {
     "name": "stdout",
     "output_type": "stream",
     "text": [
      "\n",
      "Epoch: 63/80 -- Train Loss: 0.6251\n",
      "--------------------------------------------------\n"
     ]
    },
    {
     "name": "stderr",
     "output_type": "stream",
     "text": [
      "Epoch 64/80: 100%|██████████| 938/938 [00:09<00:00, 95.23it/s] \n"
     ]
    },
    {
     "name": "stdout",
     "output_type": "stream",
     "text": [
      "\n",
      "Epoch: 64/80 -- Train Loss: 0.6246\n",
      "--------------------------------------------------\n"
     ]
    },
    {
     "name": "stderr",
     "output_type": "stream",
     "text": [
      "Epoch 65/80: 100%|██████████| 938/938 [00:11<00:00, 83.55it/s] \n"
     ]
    },
    {
     "name": "stdout",
     "output_type": "stream",
     "text": [
      "\n",
      "Epoch: 65/80 -- Train Loss: 0.6267\n",
      "--------------------------------------------------\n"
     ]
    },
    {
     "name": "stderr",
     "output_type": "stream",
     "text": [
      "Epoch 66/80: 100%|██████████| 938/938 [00:08<00:00, 104.23it/s]\n"
     ]
    },
    {
     "name": "stdout",
     "output_type": "stream",
     "text": [
      "\n",
      "Epoch: 66/80 -- Train Loss: 0.6200\n",
      "--------------------------------------------------\n"
     ]
    },
    {
     "name": "stderr",
     "output_type": "stream",
     "text": [
      "Epoch 67/80: 100%|██████████| 938/938 [00:08<00:00, 109.93it/s]\n"
     ]
    },
    {
     "name": "stdout",
     "output_type": "stream",
     "text": [
      "\n",
      "Epoch: 67/80 -- Train Loss: 0.6293\n",
      "--------------------------------------------------\n"
     ]
    },
    {
     "name": "stderr",
     "output_type": "stream",
     "text": [
      "Epoch 68/80: 100%|██████████| 938/938 [00:08<00:00, 108.93it/s]\n"
     ]
    },
    {
     "name": "stdout",
     "output_type": "stream",
     "text": [
      "\n",
      "Epoch: 68/80 -- Train Loss: 0.6249\n",
      "--------------------------------------------------\n"
     ]
    },
    {
     "name": "stderr",
     "output_type": "stream",
     "text": [
      "Epoch 69/80: 100%|██████████| 938/938 [00:08<00:00, 106.84it/s]\n"
     ]
    },
    {
     "name": "stdout",
     "output_type": "stream",
     "text": [
      "\n",
      "Epoch: 69/80 -- Train Loss: 0.6249\n",
      "--------------------------------------------------\n"
     ]
    },
    {
     "name": "stderr",
     "output_type": "stream",
     "text": [
      "Epoch 70/80: 100%|██████████| 938/938 [00:08<00:00, 107.53it/s]\n"
     ]
    },
    {
     "name": "stdout",
     "output_type": "stream",
     "text": [
      "\n",
      "Epoch: 70/80 -- Train Loss: 0.6214\n",
      "--------------------------------------------------\n"
     ]
    },
    {
     "name": "stderr",
     "output_type": "stream",
     "text": [
      "Epoch 71/80: 100%|██████████| 938/938 [00:08<00:00, 106.18it/s]\n"
     ]
    },
    {
     "name": "stdout",
     "output_type": "stream",
     "text": [
      "\n",
      "Epoch: 71/80 -- Train Loss: 0.6217\n",
      "--------------------------------------------------\n"
     ]
    },
    {
     "name": "stderr",
     "output_type": "stream",
     "text": [
      "Epoch 72/80: 100%|██████████| 938/938 [00:09<00:00, 103.50it/s]\n"
     ]
    },
    {
     "name": "stdout",
     "output_type": "stream",
     "text": [
      "\n",
      "Epoch: 72/80 -- Train Loss: 0.6181\n",
      "--------------------------------------------------\n"
     ]
    },
    {
     "name": "stderr",
     "output_type": "stream",
     "text": [
      "Epoch 73/80: 100%|██████████| 938/938 [00:08<00:00, 104.41it/s]\n"
     ]
    },
    {
     "name": "stdout",
     "output_type": "stream",
     "text": [
      "\n",
      "Epoch: 73/80 -- Train Loss: 0.6224\n",
      "--------------------------------------------------\n"
     ]
    },
    {
     "name": "stderr",
     "output_type": "stream",
     "text": [
      "Epoch 74/80: 100%|██████████| 938/938 [00:08<00:00, 108.77it/s]\n"
     ]
    },
    {
     "name": "stdout",
     "output_type": "stream",
     "text": [
      "\n",
      "Epoch: 74/80 -- Train Loss: 0.6266\n",
      "--------------------------------------------------\n"
     ]
    },
    {
     "name": "stderr",
     "output_type": "stream",
     "text": [
      "Epoch 75/80: 100%|██████████| 938/938 [00:09<00:00, 103.78it/s]\n"
     ]
    },
    {
     "name": "stdout",
     "output_type": "stream",
     "text": [
      "\n",
      "Epoch: 75/80 -- Train Loss: 0.6254\n",
      "--------------------------------------------------\n"
     ]
    },
    {
     "name": "stderr",
     "output_type": "stream",
     "text": [
      "Epoch 76/80: 100%|██████████| 938/938 [00:08<00:00, 110.50it/s]\n"
     ]
    },
    {
     "name": "stdout",
     "output_type": "stream",
     "text": [
      "\n",
      "Epoch: 76/80 -- Train Loss: 0.6186\n",
      "--------------------------------------------------\n"
     ]
    },
    {
     "name": "stderr",
     "output_type": "stream",
     "text": [
      "Epoch 77/80: 100%|██████████| 938/938 [00:09<00:00, 103.54it/s]\n"
     ]
    },
    {
     "name": "stdout",
     "output_type": "stream",
     "text": [
      "\n",
      "Epoch: 77/80 -- Train Loss: 0.6248\n",
      "--------------------------------------------------\n"
     ]
    },
    {
     "name": "stderr",
     "output_type": "stream",
     "text": [
      "Epoch 78/80: 100%|██████████| 938/938 [00:08<00:00, 104.45it/s]\n"
     ]
    },
    {
     "name": "stdout",
     "output_type": "stream",
     "text": [
      "\n",
      "Epoch: 78/80 -- Train Loss: 0.6217\n",
      "--------------------------------------------------\n"
     ]
    },
    {
     "name": "stderr",
     "output_type": "stream",
     "text": [
      "Epoch 79/80: 100%|██████████| 938/938 [00:08<00:00, 106.48it/s]\n"
     ]
    },
    {
     "name": "stdout",
     "output_type": "stream",
     "text": [
      "\n",
      "Epoch: 79/80 -- Train Loss: 0.6250\n",
      "--------------------------------------------------\n"
     ]
    },
    {
     "name": "stderr",
     "output_type": "stream",
     "text": [
      "Epoch 80/80: 100%|██████████| 938/938 [00:08<00:00, 105.42it/s]"
     ]
    },
    {
     "name": "stdout",
     "output_type": "stream",
     "text": [
      "\n",
      "Epoch: 80/80 -- Train Loss: 0.6249\n",
      "--------------------------------------------------\n"
     ]
    },
    {
     "name": "stderr",
     "output_type": "stream",
     "text": [
      "\n"
     ]
    }
   ],
   "source": [
    "set_seed()\n",
    "\n",
    "overcomplete_model = SAE(784, [1024], 1e-3, 3e-2)\n",
    "\n",
    "epochs = 80\n",
    "lr = 1e-4\n",
    "optimizer = torch.optim.Adam(overcomplete_model.parameters(), lr=lr)\n",
    "\n",
    "# device = torch.device('cuda') if torch.cuda.is_available else torch.device('cpu')\n",
    "device = torch.device('cpu')\n",
    "\n",
    "train_losses  = train_model(overcomplete_model, train_dataloader, epochs, optimizer, device)"
   ]
  },
  {
   "cell_type": "code",
   "execution_count": 78,
   "metadata": {},
   "outputs": [
    {
     "data": {
      "image/png": "[encoded data removed]",
      "text/plain": [
       "<Figure size 600x400 with 1 Axes>"
      ]
     },
     "metadata": {},
     "output_type": "display_data"
    }
   ],
   "source": [
    "plt.figure(figsize=(6, 4))\n",
    "plt.title('Training Loss')\n",
    "plt.xlabel('Epochs')\n",
    "plt.ylabel('Mean Squared Error')\n",
    "plt.plot(train_losses, color='orange', linewidth=2)\n",
    "plt.grid(True)\n",
    "plt.show()"
   ]
  },
  {
   "cell_type": "code",
   "execution_count": 81,
   "metadata": {},
   "outputs": [
    {
     "data": {
      "image/png": "[encoded data removed]",
      "text/plain": [
       "<Figure size 1500x600 with 10 Axes>"
      ]
     },
     "metadata": {},
     "output_type": "display_data"
    }
   ],
   "source": [
    "plot_images(overcomplete_model, train_dataloader, device, 5, False)"
   ]
  },
  {
   "cell_type": "markdown",
   "metadata": {},
   "source": [
    "## Conclusion \n",
    "So in this blog post, we first saw the need for **Unsupervised Learning** techniques in the domain of feature learning, then we looked at a basic **Autoencoder** architecture, from there we finally built out the idea of a regularised **Sparse Autoencoder** and discussed the sparsity constraint in detail. \n",
    "\n",
    "I hope I was able to convery the need to regularise the vanilla autoencoder especially in the overcomplete case. Moreover, I hope the final generations for both the undercomplete and overcomplete networks provide a good idea of how powerful these autoencoders are. \n",
    "\n",
    "I will now be focusing on **Variational Autoencoders** in my next blog post and hopefully, we will be able to discover the generative capabilities of the VAEs! \n",
    "\n",
    "**PS: Before I sign off, you can access my repo for the Sparse Autoencoder [from here](https://github.com/KhaquanS/Sparse_Autoencoder) . You can simply run the sae.py file in your terminal to train your own SAE!**"
   ]
  }
 ],
 "metadata": {
  "kernelspec": {
   "display_name": "base",
   "language": "python",
   "name": "python3"
  },
  "language_info": {
   "codemirror_mode": {
    "name": "ipython",
    "version": 3
   },
   "file_extension": ".py",
   "mimetype": "text/x-python",
   "name": "python",
   "nbconvert_exporter": "python",
   "pygments_lexer": "ipython3",
   "version": "3.11.5"
  }
 },
 "nbformat": 4,
 "nbformat_minor": 2
}
